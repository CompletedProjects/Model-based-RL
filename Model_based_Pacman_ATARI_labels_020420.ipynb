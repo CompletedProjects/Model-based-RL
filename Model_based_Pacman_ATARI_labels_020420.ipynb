{
  "nbformat": 4,
  "nbformat_minor": 0,
  "metadata": {
    "colab": {
      "name": " Model_based_Pacman_ATARI_labels_020420.ipynb",
      "provenance": [],
      "collapsed_sections": [
        "S4jLAGgyjflE",
        "EnrvnbMcP6Xz",
        "eKVfcEFEz9-t",
        "yRn5uXDhgmQs",
        "l0ahvG8lhSVp",
        "fKm_FKWGnPep",
        "_eIBf1pknbf_",
        "PpGt1rdvsLFT"
      ],
      "machine_shape": "hm",
      "authorship_tag": "ABX9TyP7fup9UGB+Cb9i2EFhtGUo",
      "include_colab_link": true
    },
    "kernelspec": {
      "name": "python3",
      "display_name": "Python 3"
    },
    "accelerator": "GPU"
  },
  "cells": [
    {
      "cell_type": "markdown",
      "metadata": {
        "id": "view-in-github",
        "colab_type": "text"
      },
      "source": [
        "<a href=\"https://colab.research.google.com/github/nerdk312/Model-based-RL/blob/master/Model_based_Pacman_ATARI_labels_020420.ipynb\" target=\"_parent\"><img src=\"https://colab.research.google.com/assets/colab-badge.svg\" alt=\"Open In Colab\"/></a>"
      ]
    },
    {
      "cell_type": "code",
      "metadata": {
        "id": "57XVXKX0pUf7",
        "colab_type": "code",
        "colab": {}
      },
      "source": [
        "'''\n",
        "function ClickConnect(){\n",
        "console.log(\"Working\"); \n",
        "document.querySelector(\"colab-toolbar-button#connect\").click() \n",
        "}\n",
        "setInterval(ClickConnect,60000)\n",
        "'''"
      ],
      "execution_count": 0,
      "outputs": []
    },
    {
      "cell_type": "markdown",
      "metadata": {
        "id": "S4jLAGgyjflE",
        "colab_type": "text"
      },
      "source": [
        "# Installation and Imports"
      ]
    },
    {
      "cell_type": "code",
      "metadata": {
        "id": "0rD40Izgp1JQ",
        "colab_type": "code",
        "outputId": "464dcf17-177f-4b72-b226-071fbcd13b67",
        "colab": {
          "base_uri": "https://localhost:8080/",
          "height": 1000
        }
      },
      "source": [
        "!pip install git+git://github.com/mila-iqia/atari-representation-learning.git\n",
        "!pip install git+git://github.com/ankeshanand/pytorch-a2c-ppo-acktr-gail\n",
        "!pip install git+git://github.com/openai/baselines\n",
        "!pip install wandb"
      ],
      "execution_count": 1,
      "outputs": [
        {
          "output_type": "stream",
          "text": [
            "Collecting git+git://github.com/mila-iqia/atari-representation-learning.git\n",
            "  Cloning git://github.com/mila-iqia/atari-representation-learning.git to /tmp/pip-req-build-pp9hlf2v\n",
            "  Running command git clone -q git://github.com/mila-iqia/atari-representation-learning.git /tmp/pip-req-build-pp9hlf2v\n",
            "Requirement already satisfied: gym in /usr/local/lib/python3.6/dist-packages (from atariari==0.0.1) (0.17.1)\n",
            "Requirement already satisfied: opencv-python in /usr/local/lib/python3.6/dist-packages (from atariari==0.0.1) (4.1.2.30)\n",
            "Requirement already satisfied: pyglet<=1.5.0,>=1.4.0 in /usr/local/lib/python3.6/dist-packages (from gym->atariari==0.0.1) (1.5.0)\n",
            "Requirement already satisfied: six in /usr/local/lib/python3.6/dist-packages (from gym->atariari==0.0.1) (1.12.0)\n",
            "Requirement already satisfied: numpy>=1.10.4 in /usr/local/lib/python3.6/dist-packages (from gym->atariari==0.0.1) (1.18.2)\n",
            "Requirement already satisfied: scipy in /usr/local/lib/python3.6/dist-packages (from gym->atariari==0.0.1) (1.4.1)\n",
            "Requirement already satisfied: cloudpickle<1.4.0,>=1.2.0 in /usr/local/lib/python3.6/dist-packages (from gym->atariari==0.0.1) (1.3.0)\n",
            "Requirement already satisfied: future in /usr/local/lib/python3.6/dist-packages (from pyglet<=1.5.0,>=1.4.0->gym->atariari==0.0.1) (0.16.0)\n",
            "Building wheels for collected packages: atariari\n",
            "  Building wheel for atariari (setup.py) ... \u001b[?25l\u001b[?25hdone\n",
            "  Created wheel for atariari: filename=atariari-0.0.1-cp36-none-any.whl size=46584 sha256=42e32ce8cf883dccc44930dc9016c18ffefcc5a58c8f9e98e8c00505bdecf42e\n",
            "  Stored in directory: /tmp/pip-ephem-wheel-cache-_ftfbevo/wheels/3d/69/51/5e436e5ae566c5b4dec5c53e65396d516459877a42a11d7aa4\n",
            "Successfully built atariari\n",
            "Installing collected packages: atariari\n",
            "Successfully installed atariari-0.0.1\n",
            "Collecting git+git://github.com/ankeshanand/pytorch-a2c-ppo-acktr-gail\n",
            "  Cloning git://github.com/ankeshanand/pytorch-a2c-ppo-acktr-gail to /tmp/pip-req-build-tylcei0z\n",
            "  Running command git clone -q git://github.com/ankeshanand/pytorch-a2c-ppo-acktr-gail /tmp/pip-req-build-tylcei0z\n",
            "Requirement already satisfied: gym in /usr/local/lib/python3.6/dist-packages (from a2c-ppo-acktr==0.0.1) (0.17.1)\n",
            "Requirement already satisfied: matplotlib in /usr/local/lib/python3.6/dist-packages (from a2c-ppo-acktr==0.0.1) (3.2.1)\n",
            "Requirement already satisfied: scipy in /usr/local/lib/python3.6/dist-packages (from gym->a2c-ppo-acktr==0.0.1) (1.4.1)\n",
            "Requirement already satisfied: pyglet<=1.5.0,>=1.4.0 in /usr/local/lib/python3.6/dist-packages (from gym->a2c-ppo-acktr==0.0.1) (1.5.0)\n",
            "Requirement already satisfied: numpy>=1.10.4 in /usr/local/lib/python3.6/dist-packages (from gym->a2c-ppo-acktr==0.0.1) (1.18.2)\n",
            "Requirement already satisfied: cloudpickle<1.4.0,>=1.2.0 in /usr/local/lib/python3.6/dist-packages (from gym->a2c-ppo-acktr==0.0.1) (1.3.0)\n",
            "Requirement already satisfied: six in /usr/local/lib/python3.6/dist-packages (from gym->a2c-ppo-acktr==0.0.1) (1.12.0)\n",
            "Requirement already satisfied: pyparsing!=2.0.4,!=2.1.2,!=2.1.6,>=2.0.1 in /usr/local/lib/python3.6/dist-packages (from matplotlib->a2c-ppo-acktr==0.0.1) (2.4.6)\n",
            "Requirement already satisfied: cycler>=0.10 in /usr/local/lib/python3.6/dist-packages (from matplotlib->a2c-ppo-acktr==0.0.1) (0.10.0)\n",
            "Requirement already satisfied: kiwisolver>=1.0.1 in /usr/local/lib/python3.6/dist-packages (from matplotlib->a2c-ppo-acktr==0.0.1) (1.1.0)\n",
            "Requirement already satisfied: python-dateutil>=2.1 in /usr/local/lib/python3.6/dist-packages (from matplotlib->a2c-ppo-acktr==0.0.1) (2.8.1)\n",
            "Requirement already satisfied: future in /usr/local/lib/python3.6/dist-packages (from pyglet<=1.5.0,>=1.4.0->gym->a2c-ppo-acktr==0.0.1) (0.16.0)\n",
            "Requirement already satisfied: setuptools in /usr/local/lib/python3.6/dist-packages (from kiwisolver>=1.0.1->matplotlib->a2c-ppo-acktr==0.0.1) (46.0.0)\n",
            "Building wheels for collected packages: a2c-ppo-acktr\n",
            "  Building wheel for a2c-ppo-acktr (setup.py) ... \u001b[?25l\u001b[?25hdone\n",
            "  Created wheel for a2c-ppo-acktr: filename=a2c_ppo_acktr-0.0.1-cp36-none-any.whl size=18833 sha256=0915c83e024d4603b78b28a6fdf1384a0e992a4b6d3939aad50b5f1badc0cd00\n",
            "  Stored in directory: /tmp/pip-ephem-wheel-cache-8rh7y04s/wheels/91/52/02/ec5c530fd76d56a66934ee91abbdae5240b766be1dc176deb7\n",
            "Successfully built a2c-ppo-acktr\n",
            "Installing collected packages: a2c-ppo-acktr\n",
            "Successfully installed a2c-ppo-acktr-0.0.1\n",
            "Collecting git+git://github.com/openai/baselines\n",
            "  Cloning git://github.com/openai/baselines to /tmp/pip-req-build-wl8raopc\n",
            "  Running command git clone -q git://github.com/openai/baselines /tmp/pip-req-build-wl8raopc\n",
            "Collecting gym<0.16.0,>=0.15.4\n",
            "\u001b[?25l  Downloading https://files.pythonhosted.org/packages/e0/01/8771e8f914a627022296dab694092a11a7d417b6c8364f0a44a8debca734/gym-0.15.7.tar.gz (1.6MB)\n",
            "\u001b[K     |████████████████████████████████| 1.6MB 2.8MB/s \n",
            "\u001b[?25hRequirement already satisfied: scipy in /usr/local/lib/python3.6/dist-packages (from baselines==0.1.6) (1.4.1)\n",
            "Requirement already satisfied: tqdm in /usr/local/lib/python3.6/dist-packages (from baselines==0.1.6) (4.38.0)\n",
            "Requirement already satisfied: joblib in /usr/local/lib/python3.6/dist-packages (from baselines==0.1.6) (0.14.1)\n",
            "Requirement already satisfied: cloudpickle in /usr/local/lib/python3.6/dist-packages (from baselines==0.1.6) (1.3.0)\n",
            "Requirement already satisfied: click in /usr/local/lib/python3.6/dist-packages (from baselines==0.1.6) (7.1.1)\n",
            "Requirement already satisfied: opencv-python in /usr/local/lib/python3.6/dist-packages (from baselines==0.1.6) (4.1.2.30)\n",
            "Requirement already satisfied: numpy>=1.10.4 in /usr/local/lib/python3.6/dist-packages (from gym<0.16.0,>=0.15.4->baselines==0.1.6) (1.18.2)\n",
            "Requirement already satisfied: six in /usr/local/lib/python3.6/dist-packages (from gym<0.16.0,>=0.15.4->baselines==0.1.6) (1.12.0)\n",
            "Requirement already satisfied: pyglet<=1.5.0,>=1.4.0 in /usr/local/lib/python3.6/dist-packages (from gym<0.16.0,>=0.15.4->baselines==0.1.6) (1.5.0)\n",
            "Requirement already satisfied: future in /usr/local/lib/python3.6/dist-packages (from pyglet<=1.5.0,>=1.4.0->gym<0.16.0,>=0.15.4->baselines==0.1.6) (0.16.0)\n",
            "Building wheels for collected packages: baselines, gym\n",
            "  Building wheel for baselines (setup.py) ... \u001b[?25l\u001b[?25hdone\n",
            "  Created wheel for baselines: filename=baselines-0.1.6-cp36-none-any.whl size=220664 sha256=52a7ea25ffa5601e7e6091d4adad5d92e6c3e39d10ef5880bb8038d935ba9550\n",
            "  Stored in directory: /tmp/pip-ephem-wheel-cache-7g41v9s5/wheels/42/1c/91/28314e0cd1d2cc57cf8dd18b20c4c9a0f39ae518adc13caf24\n",
            "  Building wheel for gym (setup.py) ... \u001b[?25l\u001b[?25hdone\n",
            "  Created wheel for gym: filename=gym-0.15.7-cp36-none-any.whl size=1648840 sha256=33bb4671b9b91e6bf94a719fec6eddf385678d1c7ed08781187e33e9d3e0a8de\n",
            "  Stored in directory: /root/.cache/pip/wheels/35/60/6a/f9c27ae133abaf5a5687ed2fa8ed19627d7fac5d843a27572b\n",
            "Successfully built baselines gym\n",
            "\u001b[31mERROR: gym 0.15.7 has requirement cloudpickle~=1.2.0, but you'll have cloudpickle 1.3.0 which is incompatible.\u001b[0m\n",
            "Installing collected packages: gym, baselines\n",
            "  Found existing installation: gym 0.17.1\n",
            "    Uninstalling gym-0.17.1:\n",
            "      Successfully uninstalled gym-0.17.1\n",
            "Successfully installed baselines-0.1.6 gym-0.15.7\n",
            "Collecting wandb\n",
            "\u001b[?25l  Downloading https://files.pythonhosted.org/packages/ca/18/ef5215832f523c29f6e0c19a5b87e0dd90fe40fb48ba38362f961be14e4f/wandb-0.8.31-py2.py3-none-any.whl (1.4MB)\n",
            "\u001b[K     |████████████████████████████████| 1.4MB 2.8MB/s \n",
            "\u001b[?25hRequirement already satisfied: nvidia-ml-py3>=7.352.0 in /usr/local/lib/python3.6/dist-packages (from wandb) (7.352.0)\n",
            "Collecting shortuuid>=0.5.0\n",
            "  Downloading https://files.pythonhosted.org/packages/25/a6/2ecc1daa6a304e7f1b216f0896b26156b78e7c38e1211e9b798b4716c53d/shortuuid-1.0.1-py3-none-any.whl\n",
            "Collecting configparser>=3.8.1\n",
            "  Downloading https://files.pythonhosted.org/packages/4b/6b/01baa293090240cf0562cc5eccb69c6f5006282127f2b846fad011305c79/configparser-5.0.0-py3-none-any.whl\n",
            "Collecting subprocess32>=3.5.3\n",
            "\u001b[?25l  Downloading https://files.pythonhosted.org/packages/32/c8/564be4d12629b912ea431f1a50eb8b3b9d00f1a0b1ceff17f266be190007/subprocess32-3.5.4.tar.gz (97kB)\n",
            "\u001b[K     |████████████████████████████████| 102kB 12.4MB/s \n",
            "\u001b[?25hRequirement already satisfied: requests>=2.0.0 in /usr/local/lib/python3.6/dist-packages (from wandb) (2.21.0)\n",
            "Collecting docker-pycreds>=0.4.0\n",
            "  Downloading https://files.pythonhosted.org/packages/f5/e8/f6bd1eee09314e7e6dee49cbe2c5e22314ccdb38db16c9fc72d2fa80d054/docker_pycreds-0.4.0-py2.py3-none-any.whl\n",
            "Requirement already satisfied: psutil>=5.0.0 in /usr/local/lib/python3.6/dist-packages (from wandb) (5.4.8)\n",
            "Requirement already satisfied: python-dateutil>=2.6.1 in /usr/local/lib/python3.6/dist-packages (from wandb) (2.8.1)\n",
            "Collecting sentry-sdk>=0.4.0\n",
            "\u001b[?25l  Downloading https://files.pythonhosted.org/packages/20/7e/19545324e83db4522b885808cd913c3b93ecc0c88b03e037b78c6a417fa8/sentry_sdk-0.14.3-py2.py3-none-any.whl (103kB)\n",
            "\u001b[K     |████████████████████████████████| 112kB 51.7MB/s \n",
            "\u001b[?25hRequirement already satisfied: six>=1.10.0 in /usr/local/lib/python3.6/dist-packages (from wandb) (1.12.0)\n",
            "Requirement already satisfied: PyYAML>=3.10 in /usr/local/lib/python3.6/dist-packages (from wandb) (3.13)\n",
            "Requirement already satisfied: Click>=7.0 in /usr/local/lib/python3.6/dist-packages (from wandb) (7.1.1)\n",
            "Collecting GitPython>=1.0.0\n",
            "\u001b[?25l  Downloading https://files.pythonhosted.org/packages/d3/2f/6a366d56c9b1355b0880be9ea66b166cb3536392638d8d91413ec66305ad/GitPython-3.1.0-py3-none-any.whl (450kB)\n",
            "\u001b[K     |████████████████████████████████| 460kB 50.7MB/s \n",
            "\u001b[?25hCollecting watchdog>=0.8.3\n",
            "\u001b[?25l  Downloading https://files.pythonhosted.org/packages/73/c3/ed6d992006837e011baca89476a4bbffb0a91602432f73bd4473816c76e2/watchdog-0.10.2.tar.gz (95kB)\n",
            "\u001b[K     |████████████████████████████████| 102kB 11.7MB/s \n",
            "\u001b[?25hCollecting gql==0.2.0\n",
            "  Downloading https://files.pythonhosted.org/packages/c4/6f/cf9a3056045518f06184e804bae89390eb706168349daa9dff8ac609962a/gql-0.2.0.tar.gz\n",
            "Requirement already satisfied: certifi>=2017.4.17 in /usr/local/lib/python3.6/dist-packages (from requests>=2.0.0->wandb) (2019.11.28)\n",
            "Requirement already satisfied: chardet<3.1.0,>=3.0.2 in /usr/local/lib/python3.6/dist-packages (from requests>=2.0.0->wandb) (3.0.4)\n",
            "Requirement already satisfied: idna<2.9,>=2.5 in /usr/local/lib/python3.6/dist-packages (from requests>=2.0.0->wandb) (2.8)\n",
            "Requirement already satisfied: urllib3<1.25,>=1.21.1 in /usr/local/lib/python3.6/dist-packages (from requests>=2.0.0->wandb) (1.24.3)\n",
            "Collecting gitdb<5,>=4.0.1\n",
            "\u001b[?25l  Downloading https://files.pythonhosted.org/packages/1e/f5/8f84b3bf9d94bdf2454a302f2fa375832b53660ea532586b8a55ff16ae9a/gitdb-4.0.2-py3-none-any.whl (63kB)\n",
            "\u001b[K     |████████████████████████████████| 71kB 8.7MB/s \n",
            "\u001b[?25hCollecting pathtools>=0.1.1\n",
            "  Downloading https://files.pythonhosted.org/packages/e7/7f/470d6fcdf23f9f3518f6b0b76be9df16dcc8630ad409947f8be2eb0ed13a/pathtools-0.1.2.tar.gz\n",
            "Collecting graphql-core<2,>=0.5.0\n",
            "\u001b[?25l  Downloading https://files.pythonhosted.org/packages/b0/89/00ad5e07524d8c523b14d70c685e0299a8b0de6d0727e368c41b89b7ed0b/graphql-core-1.1.tar.gz (70kB)\n",
            "\u001b[K     |████████████████████████████████| 71kB 9.1MB/s \n",
            "\u001b[?25hRequirement already satisfied: promise<3,>=2.0 in /usr/local/lib/python3.6/dist-packages (from gql==0.2.0->wandb) (2.3)\n",
            "Collecting smmap<4,>=3.0.1\n",
            "  Downloading https://files.pythonhosted.org/packages/35/d2/27777ab463cd44842c78305fa8097dfba0d94768abbb7e1c4d88f1fa1a0b/smmap-3.0.1-py2.py3-none-any.whl\n",
            "Building wheels for collected packages: subprocess32, watchdog, gql, pathtools, graphql-core\n",
            "  Building wheel for subprocess32 (setup.py) ... \u001b[?25l\u001b[?25hdone\n",
            "  Created wheel for subprocess32: filename=subprocess32-3.5.4-cp36-none-any.whl size=6489 sha256=0d1c74b6f95ed4d41cf6301c76d3b308a8944331298cd0716f55a36c2632629c\n",
            "  Stored in directory: /root/.cache/pip/wheels/68/39/1a/5e402bdfdf004af1786c8b853fd92f8c4a04f22aad179654d1\n",
            "  Building wheel for watchdog (setup.py) ... \u001b[?25l\u001b[?25hdone\n",
            "  Created wheel for watchdog: filename=watchdog-0.10.2-cp36-none-any.whl size=73605 sha256=be24dbfa244e9d36fd5e7bd89d85fa446c19f478b074b309057d1f48aee6e475\n",
            "  Stored in directory: /root/.cache/pip/wheels/bc/ed/6c/028dea90d31b359cd2a7c8b0da4db80e41d24a59614154072e\n",
            "  Building wheel for gql (setup.py) ... \u001b[?25l\u001b[?25hdone\n",
            "  Created wheel for gql: filename=gql-0.2.0-cp36-none-any.whl size=7630 sha256=5bb3cafd16b2c0ac6a535762961181ef591dde8da3b8f6f5b831d166c9b02196\n",
            "  Stored in directory: /root/.cache/pip/wheels/ce/0e/7b/58a8a5268655b3ad74feef5aa97946f0addafb3cbb6bd2da23\n",
            "  Building wheel for pathtools (setup.py) ... \u001b[?25l\u001b[?25hdone\n",
            "  Created wheel for pathtools: filename=pathtools-0.1.2-cp36-none-any.whl size=8784 sha256=7104b134cb444545de92c58d285699321bda3ad2dc3053c0fe15843ea829d58d\n",
            "  Stored in directory: /root/.cache/pip/wheels/0b/04/79/c3b0c3a0266a3cb4376da31e5bfe8bba0c489246968a68e843\n",
            "  Building wheel for graphql-core (setup.py) ... \u001b[?25l\u001b[?25hdone\n",
            "  Created wheel for graphql-core: filename=graphql_core-1.1-cp36-none-any.whl size=104650 sha256=2ad6af8e9d717251c4ca8d0255fb9ec3390d75f8a703ee9f04cde263b3b03c11\n",
            "  Stored in directory: /root/.cache/pip/wheels/45/99/d7/c424029bb0fe910c63b68dbf2aa20d3283d023042521bcd7d5\n",
            "Successfully built subprocess32 watchdog gql pathtools graphql-core\n",
            "Installing collected packages: shortuuid, configparser, subprocess32, docker-pycreds, sentry-sdk, smmap, gitdb, GitPython, pathtools, watchdog, graphql-core, gql, wandb\n",
            "Successfully installed GitPython-3.1.0 configparser-5.0.0 docker-pycreds-0.4.0 gitdb-4.0.2 gql-0.2.0 graphql-core-1.1 pathtools-0.1.2 sentry-sdk-0.14.3 shortuuid-1.0.1 smmap-3.0.1 subprocess32-3.5.4 wandb-0.8.31 watchdog-0.10.2\n"
          ],
          "name": "stdout"
        }
      ]
    },
    {
      "cell_type": "code",
      "metadata": {
        "id": "sjZ9gMrxp5vU",
        "colab_type": "code",
        "outputId": "3bf5b2af-d936-4be2-b5a4-164c7718ff7d",
        "colab": {
          "base_uri": "https://localhost:8080/",
          "height": 121
        }
      },
      "source": [
        "from google.colab import drive\n",
        "#drive.flush_and_unmount()\n",
        "drive.mount('/content/gdrive')"
      ],
      "execution_count": 2,
      "outputs": [
        {
          "output_type": "stream",
          "text": [
            "Go to this URL in a browser: https://accounts.google.com/o/oauth2/auth?client_id=947318989803-6bn6qk8qdgf4n4g3pfee6491hc0brc4i.apps.googleusercontent.com&redirect_uri=urn%3aietf%3awg%3aoauth%3a2.0%3aoob&response_type=code&scope=email%20https%3a%2f%2fwww.googleapis.com%2fauth%2fdocs.test%20https%3a%2f%2fwww.googleapis.com%2fauth%2fdrive%20https%3a%2f%2fwww.googleapis.com%2fauth%2fdrive.photos.readonly%20https%3a%2f%2fwww.googleapis.com%2fauth%2fpeopleapi.readonly\n",
            "\n",
            "Enter your authorization code:\n",
            "··········\n",
            "Mounted at /content/gdrive\n"
          ],
          "name": "stdout"
        }
      ]
    },
    {
      "cell_type": "code",
      "metadata": {
        "id": "ZI287_Yjxn3l",
        "colab_type": "code",
        "colab": {}
      },
      "source": [
        "import os\n",
        "\n",
        "from __future__ import print_function\n",
        "import pickle\n",
        "import sys\n",
        "sys.path.append('/content/gdrive/My Drive/Unsupervised_state_representation/atariari')\n",
        "\n",
        "import wandb\n",
        "\n",
        "import argparse\n",
        "\n",
        "import random\n",
        "import torch\n",
        "import os\n",
        "import torch\n",
        "import torch.nn as nn\n",
        "import torch.optim as optim\n",
        "import torch.nn.functional as F\n",
        "\n",
        "import numpy as np\n",
        "from torch.utils.data import RandomSampler, BatchSampler\n",
        "from torchvision import transforms\n",
        "import torchvision.transforms.functional as TF\n",
        "\n",
        "from tqdm import tqdm\n",
        "import datetime\n",
        "import time\n",
        "\n",
        "from atariari.benchmark.envs import *\n",
        "from torch.autograd import Variable\n",
        "\n",
        "import gym\n",
        "from atariari.benchmark.wrapper import AtariARIWrapper\n",
        "\n",
        "#from benchmark import *\n",
        "#from methods import utils\n",
        "\n",
        "# Needed to create dataloaders\n",
        "from torch.utils.data import Dataset, DataLoader\n",
        "from torchvision import transforms, utils\n",
        "\n",
        "# Imported required for the Model-based RL\n",
        "from sklearn.preprocessing import StandardScaler"
      ],
      "execution_count": 0,
      "outputs": []
    },
    {
      "cell_type": "code",
      "metadata": {
        "id": "hNPbRVOCqA3q",
        "colab_type": "code",
        "outputId": "64dadc8e-093f-410d-8ec2-a04828b65c29",
        "colab": {
          "base_uri": "https://localhost:8080/",
          "height": 50
        }
      },
      "source": [
        "!wandb login ###########"
      ],
      "execution_count": 4,
      "outputs": [
        {
          "output_type": "stream",
          "text": [
            "\u001b[34m\u001b[1mwandb\u001b[0m: Appending key for api.wandb.ai to your netrc file: /root/.netrc\n",
            "\u001b[32mSuccessfully logged in to Weights & Biases!\u001b[0m\n"
          ],
          "name": "stdout"
        }
      ]
    },
    {
      "cell_type": "code",
      "metadata": {
        "id": "T0gdFb0bqHHN",
        "colab_type": "code",
        "outputId": "a3140d0d-9a16-48a2-f498-7464f35b973b",
        "colab": {
          "base_uri": "https://localhost:8080/",
          "height": 84
        }
      },
      "source": [
        "wandb.init(entity=\"nerdk312\", project=\"ATARI_LABELS_MPC\")"
      ],
      "execution_count": 5,
      "outputs": [
        {
          "output_type": "display_data",
          "data": {
            "text/html": [
              "\n",
              "                Logging results to <a href=\"https://wandb.com\" target=\"_blank\">Weights & Biases</a> <a href=\"https://docs.wandb.com/integrations/jupyter.html\" target=\"_blank\">(Documentation)</a>.<br/>\n",
              "                Project page: <a href=\"https://app.wandb.ai/nerdk312/ATARI_LABELS_MPC\" target=\"_blank\">https://app.wandb.ai/nerdk312/ATARI_LABELS_MPC</a><br/>\n",
              "                Run page: <a href=\"https://app.wandb.ai/nerdk312/ATARI_LABELS_MPC/runs/1479cdki\" target=\"_blank\">https://app.wandb.ai/nerdk312/ATARI_LABELS_MPC/runs/1479cdki</a><br/>\n",
              "            "
            ],
            "text/plain": [
              "<IPython.core.display.HTML object>"
            ]
          },
          "metadata": {
            "tags": []
          }
        },
        {
          "output_type": "execute_result",
          "data": {
            "text/plain": [
              "W&B Run: https://app.wandb.ai/nerdk312/ATARI_LABELS_MPC/runs/1479cdki"
            ]
          },
          "metadata": {
            "tags": []
          },
          "execution_count": 5
        }
      ]
    },
    {
      "cell_type": "markdown",
      "metadata": {
        "id": "EnrvnbMcP6Xz",
        "colab_type": "text"
      },
      "source": [
        "# Hyperparameters"
      ]
    },
    {
      "cell_type": "code",
      "metadata": {
        "id": "rA9wLqaPmqqm",
        "colab_type": "code",
        "colab": {}
      },
      "source": [
        "ENV_NAME = 'MsPacmanNoFrameskip-v4'\n",
        "\n",
        "feature_size = 14\n",
        "#feature_size = all_defaults['feature_size'] # Nawid- Dimensionality of the representation\n",
        "# workers = 8 # Nawid - Choosing the number of workers for the network\n",
        "\n",
        "# Main loop hyperp\n",
        "AGGR_ITER = 10\n",
        "STEPS_PER_AGGR = 500\n",
        "\n",
        "# Random MB hyperp\n",
        "NUM_RAND_TRAJECTORIES = 1000\n",
        "\n",
        "# 'cuda' or 'cpu'\n",
        "device = 'cuda' if torch.cuda.is_available() else 'cpu'\n",
        "\n",
        "# Supervised Model Hyperp\n",
        "ENV_LEARNING_RATE = 1e-4\n",
        "REW_LEARNING_RATE = 1e-4\n",
        "BATCH_SIZE = 1024\n",
        "TRAIN_ITER_MODEL =  55\n",
        "\n",
        "# Controller Hyperp\n",
        "HORIZON_LENGTH = 5\n",
        "NUM_ACTIONS_SEQUENCES = 200\n",
        "\n",
        "observation_channels = 1\n",
        "action_dim = 1\n",
        "n_actions = 5 #  9 - Nawid - Change to 5 actions as the 4 other actions are simply copies of the other actions, therefore 5 actions should lower the amount of data needed.\n",
        "reward_dim = 1\n",
        "\n",
        "# Time and date information\n",
        "now = datetime.datetime.now()\n",
        "date_time = \"{}_{}.{}.{}\".format(now.day, now.hour, now.minute, now.second)\n",
        "\n",
        "# Making the network deterministic - https://pytorch.org/docs/stable/notes/randomness.html\n",
        "torch.manual_seed(0)\n",
        "torch.backends.cudnn.deterministic = True\n",
        "torch.backends.cudnn.benchmark = False\n",
        "np.random.seed(0)"
      ],
      "execution_count": 0,
      "outputs": []
    },
    {
      "cell_type": "markdown",
      "metadata": {
        "id": "eKVfcEFEz9-t",
        "colab_type": "text"
      },
      "source": [
        "# Model setup"
      ]
    },
    {
      "cell_type": "code",
      "metadata": {
        "id": "TpaBzmIUDnqq",
        "colab_type": "code",
        "colab": {}
      },
      "source": [
        "class EarlyStopping_loss(object):\n",
        "    \"\"\"Early stops the training if validation loss doesn't improve after a given patience.\"\"\"\n",
        "\n",
        "    def __init__(self, patience=5, verbose=False, wandb=None, name=\"\"):\n",
        "        \"\"\"\n",
        "        Args:\n",
        "            patience (int): How long to wait after last time validation loss improved.\n",
        "                            Default: 7\n",
        "            verbose (bool): If True, prints a message for each validation loss improvement.\n",
        "                            Default: False\n",
        "        \"\"\"\n",
        "        self.patience = patience\n",
        "        self.verbose = verbose\n",
        "        self.counter = 0\n",
        "        self.best_score = None\n",
        "        self.early_stop = False\n",
        "        self.val_loss_min = 1e11 # Nawid - Set a very high initial best loss\n",
        "        self.name = name\n",
        "        self.wandb = wandb\n",
        "\n",
        "    def __call__(self, val_loss, model):\n",
        "\n",
        "        score = val_loss\n",
        "\n",
        "        if self.best_score is None:\n",
        "            self.best_score = score\n",
        "            self.save_checkpoint(val_loss, model)\n",
        "        elif score >= self.best_score: # Nawid - Inverse signs to take into minimising loss instead of maximising accuracy\n",
        "            self.counter += 1\n",
        "            print(f'EarlyStopping for {self.name} counter: {self.counter} out of {self.patience}')\n",
        "            if self.counter >= self.patience:\n",
        "                self.early_stop = True\n",
        "                print(f'{self.name} has stopped')\n",
        "        else:\n",
        "            self.best_score = score\n",
        "            self.save_checkpoint(val_loss, model)\n",
        "            self.counter = 0\n",
        "\n",
        "    def save_checkpoint(self, val_loss, model):\n",
        "        '''Saves model when validation loss decrease.'''\n",
        "        if self.verbose:\n",
        "            print(\n",
        "                f'Validation loss decreased/improved for {self.name}  ({self.val_loss_min:.6f} --> {val_loss:.6f}).  Saving model ...')\n",
        "\n",
        "        save_dir = self.wandb.run.dir\n",
        "        torch.save(model.state_dict(), save_dir + \"/\" + self.name + \".pt\")\n",
        "        self.wandb.save(save_dir + \"/\" + self.name + \".pt\")\n",
        "        self.val_loss_min = val_loss\n"
      ],
      "execution_count": 0,
      "outputs": []
    },
    {
      "cell_type": "code",
      "metadata": {
        "colab_type": "code",
        "id": "NGPEetVzTtOb",
        "colab": {}
      },
      "source": [
        "class NNDynamicsModel(nn.Module):\n",
        "    '''\n",
        "    Model that predict the next state, given the current state and action\n",
        "    '''\n",
        "    def __init__(self, input_dim, obs_output_dim):\n",
        "        super(NNDynamicsModel, self).__init__()\n",
        "\n",
        "        self.mlp = nn.Sequential(\n",
        "            nn.Linear(input_dim, 512),\n",
        "            nn.BatchNorm1d(num_features=512),\n",
        "            nn.ReLU(),\n",
        "            nn.Linear(512,256),\n",
        "            nn.BatchNorm1d(num_features=256),\n",
        "            nn.ReLU(),\n",
        "            nn.Linear(256, obs_output_dim)\n",
        "        )\n",
        "    def forward(self, x):\n",
        "        return self.mlp(x.float())\n",
        "\n",
        "class NNRewardModel(nn.Module):\n",
        "    '''\n",
        "    Model that predict the reward given the current state and action\n",
        "    '''\n",
        "    def __init__(self, input_dim, reward_output_dim):\n",
        "        super(NNRewardModel, self).__init__()\n",
        "\n",
        "        self.mlp = nn.Sequential(\n",
        "            nn.Linear(input_dim, 512),\n",
        "            nn.BatchNorm1d(num_features=512),\n",
        "            nn.ReLU(),\n",
        "            nn.Linear(512,256),\n",
        "            nn.BatchNorm1d(num_features=256),\n",
        "            nn.ReLU(),\n",
        "            nn.Linear(256, reward_output_dim),\n",
        "            nn.Sigmoid()\n",
        "        )\n",
        "\n",
        "    def forward(self, x):\n",
        "        return self.mlp(x.float())\n",
        "\n",
        "def model_MSEloss(y_pred,y_truth, device):\n",
        "    '''\n",
        "    Compute the MSE (Mean Squared Error)\n",
        "    '''\n",
        "    y_truth = torch.FloatTensor(np.array(y_truth)).to(device)\n",
        "    return F.mse_loss(y_pred.view(-1).float(), y_truth.view(-1))\n",
        "\n",
        "def model_CEloss(y_pred,y_truth,device):\n",
        "    '''\n",
        "    Compute the CEloss\n",
        "    '''\n",
        "    y_truth = torch.Tensor(np.array(y_truth)).to(device)\n",
        "    return F.cross_entropy(y_pred, y_truth)\n",
        "\n",
        "def model_BCEloss(y_pred,y_truth,device):\n",
        "    '''\n",
        "    Compute the BCE (Binary cross entropy)\n",
        "    '''\n",
        "    y_truth = torch.FloatTensor(np.array(y_truth)).to(device)\n",
        "    return F.binary_cross_entropy(y_pred.view(-1).float(), y_truth.view(-1))"
      ],
      "execution_count": 0,
      "outputs": []
    },
    {
      "cell_type": "markdown",
      "metadata": {
        "id": "yRn5uXDhgmQs",
        "colab_type": "text"
      },
      "source": [
        "# General Functions"
      ]
    },
    {
      "cell_type": "code",
      "metadata": {
        "id": "kJvx1bTGSmLI",
        "colab_type": "code",
        "colab": {}
      },
      "source": [
        "def one_hot(i):\n",
        "    a = np.zeros(n_actions, 'uint8')\n",
        "    a[i] = 1\n",
        "    return a"
      ],
      "execution_count": 0,
      "outputs": []
    },
    {
      "cell_type": "code",
      "metadata": {
        "id": "SCHWWzZ_f5GV",
        "colab_type": "code",
        "colab": {}
      },
      "source": [
        "def normalise(train_data, val_data, scaler = None): # Nawid - Used to normalise each dimension individually\n",
        "    if scaler is None:\n",
        "        scaler = StandardScaler()\n",
        "        train_data = scaler.fit_transform(train_data)\n",
        "    else: \n",
        "        train_data = scaler.transform(train_data)\n",
        "        \n",
        "    val_data = scaler.transform(val_data)\n",
        "    return train_data, val_data, scaler\n",
        "\n",
        "def normalise_dataset(env_train_data, env_val_data, rew_train_data, rew_val_data,X_env_obs_scaler = None,y_env_scaler=None,X_rew_obs_scaler= None):\n",
        "    # Unpack data\n",
        "    (X_env_train_obs, X_env_train_act, y_env_train), (X_env_val_obs, X_env_val_act, y_env_val) = env_train_data, env_val_data\n",
        "    (X_rew_train_obs, X_rew_train_act, y_rew_train), (X_rew_val_obs, X_rew_val_act, y_rew_val) = rew_train_data, rew_val_data\n",
        "    \n",
        "    # Normalise training and validation data\n",
        "    X_env_train_obs,X_env_val_obs, X_env_obs_scaler =  normalise(X_env_train_obs, X_env_val_obs, X_env_obs_scaler)\n",
        "    y_env_train, y_env_val, y_env_scaler = normalise(y_env_train, y_env_val, y_env_scaler)\n",
        "    X_rew_train_obs, X_rew_val_obs, X_rew_obs_scaler = normalise(X_rew_train_obs, X_rew_val_obs, X_rew_obs_scaler)\n",
        "    \n",
        "    # Concatentates the normalised states with the one hot vector for the actions\n",
        "    X_env_train = np.concatenate((X_env_train_obs,X_env_train_act),axis=1)\n",
        "    X_env_val = np.concatenate((X_env_val_obs,X_env_val_act),axis=1)\n",
        "    X_rew_train = np.concatenate((X_rew_train_obs,X_rew_train_act),axis=1)\n",
        "    X_rew_val = np.concatenate((X_rew_val_obs,X_rew_val_act),axis=1)\n",
        "\n",
        "    # Pack data tuples\n",
        "    env_train_data, env_val_data = (X_env_train, y_env_train),(X_env_val, y_env_val) \n",
        "    rew_train_data, rew_val_data = (X_rew_train, y_rew_train),(X_rew_val, y_rew_val)\n",
        "\n",
        "    return env_train_data, env_val_data, rew_train_data, rew_val_data, X_env_obs_scaler, y_env_scaler, X_rew_obs_scaler\n",
        "\n",
        "#normalise_dataset(env_train_data, env_val_data, rew_train_data, rew_val_data)"
      ],
      "execution_count": 0,
      "outputs": []
    },
    {
      "cell_type": "markdown",
      "metadata": {
        "id": "taJgI07xT7eo",
        "colab_type": "text"
      },
      "source": [
        "# Data collection and preprocessing"
      ]
    },
    {
      "cell_type": "code",
      "metadata": {
        "id": "lzpOMJFWs9MH",
        "colab_type": "code",
        "outputId": "9520ef78-449a-40f4-9c72-54c4abe51a3a",
        "colab": {
          "base_uri": "https://localhost:8080/",
          "height": 34
        }
      },
      "source": [
        "class Data_collection():\n",
        "    def __init__(self,ENV_NAME,feature_size,state_mode = 'ATARIARI', encoder = None):\n",
        "        self.ENV_NAME = ENV_NAME\n",
        "        self.state_mode = state_mode\n",
        "        self.feature_size = feature_size\n",
        "        self.encoder = encoder\n",
        "        self.repeated_initial = True # Nawid - set repeated initial as true initially\n",
        "        self.device = 'cuda' if torch.cuda.is_available() else 'cpu'\n",
        "\n",
        "    def gather_random_trajectories(self,num_traj):\n",
        "\n",
        "        dataset_random = []\n",
        "        #Env name could either be the RAM case or the generic case\n",
        "        env = AtariARIWrapper(gym.make(self.ENV_NAME)) \n",
        "        i = 0\n",
        "        for n in range(num_traj):\n",
        "            if n % 10 ==0:\n",
        "                print('trajectory number :',n)\n",
        "            # Initial set up\n",
        "            obs = env.reset()\n",
        "            self.repeated_initial = True # Nawid- Used to represent the initial state\n",
        "            initial_info_labels = env.labels()\n",
        "            info_labels = env.labels() # Nawid -  Used to get the current state\n",
        "            #print('trajectory number',n)\n",
        "            \n",
        "            while True:\n",
        "                # Choosing action and env step\n",
        "                sampled_action = np.random.randint(0,n_actions)\n",
        "                sampled_action_one_hot = one_hot(sampled_action)\n",
        "                next_obs, reward, done, next_info = env.step(sampled_action)\n",
        "                #print('done after env step', done)\n",
        "                next_info_labels = next_info['labels']\n",
        "                # self.repeated initial is set to true at first and it is is turned to true in the reward_collection class when done is true\n",
        "\n",
        "                if self.repeated_initial: # If the initial state is repeating\n",
        "                    if initial_info_labels == next_info_labels: # Current state is still the same as the initial state\n",
        "                        pass\n",
        "                    else:\n",
        "                        # New state achieved, so save data\n",
        "                        self.repeated_initial = False\n",
        "                    \n",
        "                        state, next_state = self.state_collection(obs, next_obs,info_labels, next_info_labels)\n",
        "                        reward, pacman_done = self.reward_collection(reward, done, info_labels, next_info_labels)\n",
        "                        #print('pacman_done', pacman_done)\n",
        "                        dataset_random.append([state, next_state,reward,pacman_done,sampled_action_one_hot])\n",
        "                    \n",
        "                        obs = next_obs\n",
        "                        info_labels = next_info_labels\n",
        "\n",
        "                else:\n",
        "                    # Save data as this is when the initial state and the next state are not identical\n",
        "                    state, next_state = self.state_collection(obs, next_obs,info_labels, next_info_labels)\n",
        "                    reward, pacman_done = self.reward_collection(reward, done, info_labels, next_info_labels) # Nawid - Changed name to pacman done as the variable done is used to exit the loop\n",
        "                    dataset_random.append([state, next_state,reward,pacman_done,sampled_action_one_hot])\n",
        "                \n",
        "                    obs = next_obs\n",
        "                    info_labels = next_info_labels\n",
        "                    # Used to test whether the done behaviour was correct\n",
        "                    \n",
        "                    '''if pacman_done:\n",
        "                        i +=1 \n",
        "                        print('pacman done', i)'''\n",
        "                    \n",
        "\n",
        "                if done:\n",
        "                    break \n",
        "        '''               \n",
        "        #dataset_random = np.array(dataset_random)\n",
        "        first_dataset = np.array(dataset_random[0])\n",
        "        print(first_dataset[0])\n",
        "        print('zero',dataset_random[0])\n",
        "        print('One',dataset_random[1])\n",
        "        print('Two',dataset_random[2])\n",
        "        print('Three',dataset_random[3])\n",
        "        print('Four',dataset_random[4])\n",
        "        #print(dataset_random.shape)\n",
        "        '''\n",
        "        return dataset_random\n",
        "    \n",
        "\n",
        "    def state_collection(self,obs, next_obs, info_labels, next_info_labels):\n",
        "        if self.state_mode == 'ATARIARI':\n",
        "            state = []\n",
        "            next_state = []\n",
        "            i = 0 \n",
        "            for key in info_labels :\n",
        "                if i < self.feature_size: # Nawid - Only the first 14 info are crucial I believe\n",
        "                    state.append(info_labels[key])\n",
        "                    next_state.append(next_info_labels[key])\n",
        "                    i +=1\n",
        "                else:\n",
        "                    state = np.array(state)\n",
        "                    next_state = np.array(next_state)\n",
        "                    return state, next_state\n",
        "    \n",
        "        elif self.state_mode == 'STDIM': # Encoding is the state\n",
        "            assert self.encoder is not None\n",
        "            with torch.no_grad():\n",
        "                self.encoder.eval()\n",
        "                state = self.encoder(obs.float().to(self.device) / 255)\n",
        "                next_state = self.encoder(next_obs.float().to(self.device) / 255)\n",
        "                return state.cpu().detach().numpy(), next_state.cpu().detach().numpy()\n",
        "\n",
        "        else: # Image observations are the state or the RAM labels\n",
        "            return obs, next_obs\n",
        "\n",
        "    def reward_collection(self,reward,done,info_labels,next_info_labels):\n",
        "        # checks whether there has been a change in lives- change done to 1, otherwise the done should be fine regardless\n",
        "        if not info_labels['num_lives'] == next_info_labels['num_lives']: # Nawid - If there is a change in the number of lives -  The change in the number of lives occurs after the mspacman is resurrected\n",
        "            #print('change in lives')\n",
        "            done = True \n",
        "            self.repeated_initial = True\n",
        "        return reward, done\n",
        "\n",
        "    def unison_shuffled_copies(self,*args): # Nawid- Randomises all the different values, using *args to use a variable number of parameters so i can shuffle many different values at once\n",
        "        p = np.random.permutation(len(args[0]))\n",
        "        shuffled = [i[p] for i in args]\n",
        "        return shuffled\n",
        "    \n",
        "    def collate_data(self,random_dataset, rl_dataset):\n",
        "        if len(rl_dataset) > 0:\n",
        "                \n",
        "            random_dataset = np.array(random_dataset)\n",
        "            rl_dataset = np.array(rl_dataset)\n",
        "            print('random_dataset', random_dataset.shape)\n",
        "            print('rl dataset', rl_dataset.shape)\n",
        "        \n",
        "            d_concat = np.concatenate([random_dataset, rl_dataset], axis=0)\n",
        "            print('d_concat',d_concat.shape)        \n",
        "        else:\n",
        "            d_concat = np.array(random_dataset)\n",
        "        \n",
        "        num_examples_added = len(d_concat)\n",
        "\n",
        "        # Split the dataset into train(80%) and test(20%)\n",
        "        D_train = d_concat[:int(-num_examples_added*1/5)]\n",
        "        D_valid = d_concat[int(-num_examples_added*1/5):]\n",
        "\n",
        "        print(\"len(D):\", len(d_concat), 'len(Dtrain)', len(D_train))\n",
        "\n",
        "        # Shuffle the dataset\n",
        "        sff = np.arange(len(D_train))\n",
        "        np.random.shuffle(sff)\n",
        "        D_train = D_train[sff]\n",
        "\n",
        "        # Create the input and output for the train\n",
        "        X_train_obs = np.array([obs for obs,_,_,_,_ in D_train]) # Takes obs and action\n",
        "        X_train_act = np.array([act for _,_,_,_,act in D_train])\n",
        "\n",
        "        # Env output\n",
        "        y_env_train = np.array([no for _,no,_,_,_ in D_train])\n",
        "        y_env_train = y_env_train - np.array([obs for obs,_,_,_,_ in D_train]) # y(state) = s(t+1) - s(t)\n",
        "\n",
        "        # Reward's output\n",
        "        y_rew_train = np.array([[D] for _,_,_,D,_ in D_train])\n",
        "    \n",
        "        # Next state output\n",
        "        X_val_obs = np.array([obs for obs,_,_,_,_ in D_valid]) # Takes obs and action\n",
        "        X_val_act = np.array([act for _,_,_,_,act in D_valid])\n",
        "\n",
        "        y_env_val = np.array([no for _,no,_,_,_ in D_valid])\n",
        "        y_env_val = y_env_val - np.array([obs for obs,_,_,_,_ in D_valid]) # y(state) = s(t+1) - s(t)\n",
        "\n",
        "        # Reward output\n",
        "        y_rew_val = np.array([[D] for _,_,_,D,_ in D_valid])\n",
        "    \n",
        "        env_train_data, env_val_data = (X_train_obs, X_train_act, y_env_train), (X_val_obs, X_val_act, y_env_val)\n",
        "        rew_train_data, rew_val_data = (X_train_obs, X_train_act, y_rew_train), (X_val_obs, X_val_act, y_rew_val)\n",
        "\n",
        "        return env_train_data, env_val_data, rew_train_data, rew_val_data \n",
        "    \n",
        "\n",
        "\n",
        "\n",
        "data_collector = Data_collection('MsPacmanNoFrameskip-v4',feature_size)\n",
        "random_data = data_collector.gather_random_trajectories(5)\n"
      ],
      "execution_count": 11,
      "outputs": [
        {
          "output_type": "stream",
          "text": [
            "trajectory number : 0\n"
          ],
          "name": "stdout"
        }
      ]
    },
    {
      "cell_type": "markdown",
      "metadata": {
        "id": "l0ahvG8lhSVp",
        "colab_type": "text"
      },
      "source": [
        "# Train model"
      ]
    },
    {
      "cell_type": "code",
      "metadata": {
        "id": "A3T5LHY6hRW7",
        "colab_type": "code",
        "colab": {}
      },
      "source": [
        "def train_model(train_data,val_data,model,batch_size, max_model_iter, optimizer, device,early_stopper,desired_model='Env_model'):\n",
        "    ''' \n",
        "    General function to train either of the two models\n",
        "    '''\n",
        "    # Unpack data\n",
        "    (X_train, y_train), (X_val, y_val) =  train_data, val_data\n",
        "    losses_env = []\n",
        "\n",
        "    # Choose loss function based on what type of model is training\n",
        "    if desired_model =='Env_model': # Nawid -  Decides which loss function to use\n",
        "        loss_function = model_MSEloss\n",
        "    else:\n",
        "        loss_function = model_BCEloss\n",
        "        #print('BCE being used')\n",
        "\n",
        "    # go through max_model iter supervised iterations\n",
        "    for it in tqdm(range(max_model_iter)):\n",
        "        # create mini batches of size batch_size\n",
        "        for mb in range(0,len(X_train), batch_size): # Nawid- Batch size is the step size\n",
        "            if len(X_train) > mb + BATCH_SIZE:\n",
        "                X_mb = X_train[mb:mb+BATCH_SIZE]\n",
        "                y_mb = y_train[mb:mb+BATCH_SIZE]\n",
        "                #X_mb += np.random.normal(loc = 0, scale = 0.001, size= X_mb.shape)\n",
        "\n",
        "                optimizer.zero_grad()\n",
        "                # forward pass of model to compute the output\n",
        "                pred_mb = model(torch.tensor(X_mb).to(device))\n",
        "                \n",
        "                # compute the loss\n",
        "                loss = loss_function(pred_mb,y_mb,device) #Nawid-  Uses Mse loss if dynamics model or uses BCE loss if reward/done model\n",
        "                wandb.log({'{} Training loss'.format(desired_model):loss.cpu().detach().numpy()})\n",
        "                # backward pass\n",
        "                loss.backward()\n",
        "                # optimization step\n",
        "                optimizer.step()\n",
        "        \n",
        "        # Nawid - Calculate the validation loss after each epoch\n",
        "        model.eval()\n",
        "        with torch.no_grad():\n",
        "            pred_val = model(torch.tensor(X_val).to(device))\n",
        "            val_loss = loss_function(pred_val, y_val,device)\n",
        "            wandb.log({'{} Validation loss'.format(desired_model):val_loss})\n",
        "        \n",
        "\n",
        "        # Checks whether to early stop after each epoch\n",
        "        early_stopper(val_loss,model)\n",
        "        if early_stopper.early_stop:\n",
        "            print(\"Early stopping\")\n",
        "            break"
      ],
      "execution_count": 0,
      "outputs": []
    },
    {
      "cell_type": "markdown",
      "metadata": {
        "id": "0jEdA4yE3GfE",
        "colab_type": "text"
      },
      "source": [
        "# Controller"
      ]
    },
    {
      "cell_type": "code",
      "metadata": {
        "id": "MOzwWiaiRxQk",
        "colab_type": "code",
        "colab": {}
      },
      "source": [
        "class multi_model_based_control():\n",
        "    def __init__(self,ENV_NAME, env_model, rew_model,num_sequences, horizon_length, n_actions, norm, num_features = feature_size, state_mode ='ATARIARI'):\n",
        "        self.device = 'cuda' if torch.cuda.is_available() else 'cpu'\n",
        "        self.state_mode = state_mode\n",
        "        if self.state_mode == 'ATARIARI':\n",
        "            self.env = AtariARIWrapper(gym.make(ENV_NAME))\n",
        "            self.initial_info_labels = self.env.labels()\n",
        "        \n",
        "        self.env_model = env_model\n",
        "        self.rew_model = rew_model\n",
        "        self.horizon_length = horizon_length\n",
        "        self.num_sequences = num_sequences\n",
        "        self.repeated_initial = True # Nawid - set repeated initial as true initially\n",
        "        self.env_input_scaler, self.env_output_scaler, self.rew_input_scaler = norm\n",
        "        self.n_actions = n_actions\n",
        "        self.num_features = num_features\n",
        "        self.state_mode = state_mode\n",
        "        \n",
        "\n",
        "\n",
        "    def random_sampling_shooting(self,real_obs):\n",
        "        '''\n",
        "        Use a random-sampling shooting method, generating random action sequences. The first action with the highest reward of the entire sequence is returned\n",
        "        '''\n",
        "        best_reward = -1e9\n",
        "        best_next_action = []\n",
        "        m_obs = np.array([real_obs for _ in range(self.num_sequences)])\n",
        "\n",
        "        # array that contains the rewards for all the sequence\n",
        "        unroll_rewards = np.zeros((self.num_sequences, 1)) \n",
        "        first_sampled_actions = []\n",
        "\n",
        "        self.env_model.eval()\n",
        "        self.rew_model.eval()\n",
        "\n",
        "        # Create a batch of size 'num_sequences' (number of trajectories) to roll the models 'horizon length' times\n",
        "        ## i.e roll a given number of trajectories in a single batch (to increase speed)\n",
        "        for t in range(self.horizon_length):\n",
        "            # sample actions for each sequence\n",
        "            sampled_actions = np.array([np.random.randint(0,self.n_actions) for _ in range(self.num_sequences)])\n",
        "            sampled_actions_one_hot = np.array([one_hot(action) for action in sampled_actions])\n",
        "            if isinstance(self.env_model,NNDynamicsModel): # Nawid-  If the env model is a neural net\n",
        "                #print('using dynamics model')\n",
        "                m_obs_env_scaled = self.env_input_scaler.transform(m_obs)\n",
        "                env_model_input = np.concatenate([m_obs_env_scaled, sampled_actions_one_hot], axis = 1)\n",
        "                # compute the next state for each sequence\n",
        "                pred_obs = self.env_model(torch.tensor(env_model_input).to(self.device))\n",
        "\n",
        "                # inverse scaler transformation\n",
        "                pred_obs = self.env_output_scaler.inverse_transform(pred_obs.cpu().detach().numpy())\n",
        "                # add previous observation\n",
        "                next_obs = pred_obs + m_obs\n",
        "            else:\n",
        "                #print('using oracle state')            \n",
        "                next_obs = self.env_model.predict_states(m_obs,sampled_actions) # Nawid - Able to obtain the next state directly rather than predicting a change in states\n",
        "\n",
        "            if isinstance(self.rew_model, NNRewardModel):\n",
        "                m_obs_rew_scaled = self.rew_input_scaler.transform(m_obs)\n",
        "                rew_model_input = np.concatenate([m_obs_rew_scaled, sampled_actions_one_hot], axis = 1)\n",
        "                pred_rew = self.rew_model(torch.tensor(rew_model_input).to(self.device)) # Nawid -  I believe I do not need to rescale for a True of false situation\n",
        "                unroll_rewards += (1 - pred_rew.cpu().detach().numpy())\n",
        "            else:\n",
        "                #print('using oracle reward')\n",
        "                pred_rew = self.rew_model.predict_reward(m_obs, sampled_actions,next_obs)\n",
        "                unroll_rewards += pred_rew\n",
        "        \n",
        "            m_obs = next_obs # Nawid - Update the state after calculating the new state and calculating the rewards\n",
        "\n",
        "            if t ==0:\n",
        "                first_sampled_actions = sampled_actions\n",
        "        \n",
        "        self.env_model.train()\n",
        "        self.rew_model.train()\n",
        "\n",
        "        # Best the position of the sequence with the higher reward\n",
        "        arg_best_reward = np.argmax(unroll_rewards)\n",
        "        best_sum_reward = unroll_rewards[arg_best_reward].squeeze()\n",
        "        # take the first action of this sequence\n",
        "        best_action = first_sampled_actions[arg_best_reward]\n",
        "        #best_action =  np.squeeze(best_action)\n",
        "        return best_action, best_sum_reward\n",
        "    \n",
        "    def check_initial(self, next_info_labels):\n",
        "        # Checks if there has been a change from the initial info labels to show that the initial lag period is over \n",
        "        if self.initial_info_labels == next_info_labels:\n",
        "            pass\n",
        "        else:\n",
        "            self.repeated_initial = False\n",
        "    \n",
        "    def state_conversion(self,obs, info_labels):\n",
        "        if self.state_mode == 'ATARIARI':\n",
        "            state = []\n",
        "            i = 0 \n",
        "            for key in info_labels :\n",
        "                if i < self.num_features: # Nawid - Only the first 14 info are crucial I believe\n",
        "                    state.append(info_labels[key])\n",
        "                    i +=1\n",
        "                else:\n",
        "                    state = np.array(state)\n",
        "                    return state\n",
        "    \n",
        "        elif self.state_mode == 'STDIM': # Encoding is the state\n",
        "            assert self.encoder is not None\n",
        "            with torch.no_grad():\n",
        "                self.encoder.eval()\n",
        "                state = self.encoder(obs.float().to(self.device) / 255)\n",
        "                return state.cpu().detach().numpy()\n",
        "        else: # Image observations are the state or the RAM labels\n",
        "            return obs\n",
        "    \n",
        "    def reward_conversion(self,reward,done,info_labels,next_info_labels):\n",
        "        # checks whether there has been a change in lives- change done to 1, otherwise the done should be fine regardless\n",
        "        if not info_labels['num_lives'] == next_info_labels['num_lives']: # Nawid - If there is a change in the number of lives -  The change in the number of lives occurs after the mspacman is resurrected\n",
        "            done = True \n",
        "            self.repeated_initial = True\n",
        "            self.initial_info_labels  = next_info_labels # Sets the new initial labels.\n",
        "        return reward, done"
      ],
      "execution_count": 0,
      "outputs": []
    },
    {
      "cell_type": "markdown",
      "metadata": {
        "id": "fKm_FKWGnPep",
        "colab_type": "text"
      },
      "source": [
        "# Saving config"
      ]
    },
    {
      "cell_type": "code",
      "metadata": {
        "id": "k5P-E36KnFoY",
        "colab_type": "code",
        "colab": {}
      },
      "source": [
        "config = wandb.config\n",
        "config.batch_size = BATCH_SIZE          \n",
        "config.horizon_length = HORIZON_LENGTH\n",
        "config.num_action_seq = NUM_ACTIONS_SEQUENCES\n",
        "config.train_model_iter = TRAIN_ITER_MODEL \n",
        "config.num_rand_trajectories = NUM_RAND_TRAJECTORIES\n",
        "config.aggr_iter = AGGR_ITER\n",
        "config.steps_per_aggr = STEPS_PER_AGGR\n",
        "config.env_lr = ENV_LEARNING_RATE\n",
        "config.rew_lr = REW_LEARNING_RATE\n",
        "config.no_actions = n_actions"
      ],
      "execution_count": 0,
      "outputs": []
    },
    {
      "cell_type": "markdown",
      "metadata": {
        "id": "_eIBf1pknbf_",
        "colab_type": "text"
      },
      "source": [
        "# Main - Model training"
      ]
    },
    {
      "cell_type": "markdown",
      "metadata": {
        "id": "Vk1xCx6x7NZ2",
        "colab_type": "text"
      },
      "source": [
        "Data collection and processing"
      ]
    },
    {
      "cell_type": "code",
      "metadata": {
        "id": "sVutEvgUib8y",
        "colab_type": "code",
        "outputId": "72d0ef80-3e54-4ebf-bb60-6d1b25edc37f",
        "colab": {
          "base_uri": "https://localhost:8080/",
          "height": 202
        }
      },
      "source": [
        "# gather the dataset of random sequences\n",
        "data_collector = Data_collection(ENV_NAME,feature_size)\n",
        "#rand_dataset = data_collector.gather_random_trajectories(NUM_RAND_TRAJECTORIES)\n",
        "rand_dataset = data_collector.gather_random_trajectories(100)\n",
        "rl_dataset = []\n",
        "env_train_data, env_val_data, rew_train_data, rew_val_data = data_collector.collate_data(rand_dataset,rl_dataset)\n",
        "\n",
        "norm_env_train_data, norm_env_val_data, norm_rew_train_data, norm_rew_val_data, X_env_state_scaler, y_env_scaler, X_rew_state_scaler = normalise_dataset(env_train_data, env_val_data, rew_train_data, rew_val_data)\n",
        "norm = (X_env_state_scaler, y_env_scaler, X_rew_state_scaler)\n"
      ],
      "execution_count": 32,
      "outputs": [
        {
          "output_type": "stream",
          "text": [
            "trajectory number : 0\n",
            "trajectory number : 10\n",
            "trajectory number : 20\n",
            "trajectory number : 30\n",
            "trajectory number : 40\n",
            "trajectory number : 50\n",
            "trajectory number : 60\n",
            "trajectory number : 70\n",
            "trajectory number : 80\n",
            "trajectory number : 90\n",
            "len(D): 168620 len(Dtrain) 134896\n"
          ],
          "name": "stdout"
        }
      ]
    },
    {
      "cell_type": "markdown",
      "metadata": {
        "id": "HJi8pwC27Q5N",
        "colab_type": "text"
      },
      "source": [
        "Dynamics model training"
      ]
    },
    {
      "cell_type": "code",
      "metadata": {
        "id": "4h62P5907GbX",
        "colab_type": "code",
        "colab": {
          "base_uri": "https://localhost:8080/",
          "height": 1000
        },
        "outputId": "2609506b-45dc-4668-cdb6-ff90c27f9f50"
      },
      "source": [
        "env_model = NNDynamicsModel(n_actions + feature_size, feature_size).to(device) # Nawid - Need to put both actions as it is a one-hot vector\n",
        "env_optimizer = torch.optim.Adam(env_model.parameters(),ENV_LEARNING_RATE) # Nawid - Optimizer for the env model\n",
        "wandb.watch(env_model, log=\"all\")\n",
        "env_model_name = 'Env_model'+ '_' + date_time\n",
        "early_stopping_env = EarlyStopping_loss(patience=7, verbose=True, wandb=wandb, name=env_model_name)\n",
        "\n",
        "for n_iter in range(AGGR_ITER):\n",
        "    if early_stopping_env.early_stop:\n",
        "        print('Early stopping')\n",
        "        break\n",
        "    train_model(norm_env_train_data, norm_env_val_data, env_model, BATCH_SIZE, TRAIN_ITER_MODEL,env_optimizer,device,early_stopping_env)"
      ],
      "execution_count": 30,
      "outputs": [
        {
          "output_type": "stream",
          "text": [
            "  5%|▌         | 3/55 [00:00<00:27,  1.91it/s]"
          ],
          "name": "stderr"
        },
        {
          "output_type": "stream",
          "text": [
            "Validation loss decreased/improved for Env_model_5_17.14.56  (100000000000.000000 --> 0.674989).  Saving model ...\n",
            "Validation loss decreased/improved for Env_model_5_17.14.56  (0.674989 --> 0.672204).  Saving model ...\n",
            "Validation loss decreased/improved for Env_model_5_17.14.56  (0.672204 --> 0.669794).  Saving model ...\n"
          ],
          "name": "stdout"
        },
        {
          "output_type": "stream",
          "text": [
            "\r  9%|▉         | 5/55 [00:00<00:19,  2.58it/s]"
          ],
          "name": "stderr"
        },
        {
          "output_type": "stream",
          "text": [
            "Validation loss decreased/improved for Env_model_5_17.14.56  (0.669794 --> 0.667757).  Saving model ...\n",
            "Validation loss decreased/improved for Env_model_5_17.14.56  (0.667757 --> 0.666063).  Saving model ...\n",
            "Validation loss decreased/improved for Env_model_5_17.14.56  (0.666063 --> 0.664676).  Saving model ...\n"
          ],
          "name": "stdout"
        },
        {
          "output_type": "stream",
          "text": [
            " 16%|█▋        | 9/55 [00:01<00:10,  4.42it/s]"
          ],
          "name": "stderr"
        },
        {
          "output_type": "stream",
          "text": [
            "Validation loss decreased/improved for Env_model_5_17.14.56  (0.664676 --> 0.663563).  Saving model ...\n",
            "Validation loss decreased/improved for Env_model_5_17.14.56  (0.663563 --> 0.662672).  Saving model ...\n",
            "Validation loss decreased/improved for Env_model_5_17.14.56  (0.662672 --> 0.661972).  Saving model ...\n"
          ],
          "name": "stdout"
        },
        {
          "output_type": "stream",
          "text": [
            "\r 20%|██        | 11/55 [00:01<00:07,  5.58it/s]"
          ],
          "name": "stderr"
        },
        {
          "output_type": "stream",
          "text": [
            "Validation loss decreased/improved for Env_model_5_17.14.56  (0.661972 --> 0.661423).  Saving model ...\n",
            "Validation loss decreased/improved for Env_model_5_17.14.56  (0.661423 --> 0.660971).  Saving model ...\n",
            "Validation loss decreased/improved for Env_model_5_17.14.56  (0.660971 --> 0.660583).  Saving model ...\n"
          ],
          "name": "stdout"
        },
        {
          "output_type": "stream",
          "text": [
            " 27%|██▋       | 15/55 [00:01<00:04,  8.15it/s]"
          ],
          "name": "stderr"
        },
        {
          "output_type": "stream",
          "text": [
            "Validation loss decreased/improved for Env_model_5_17.14.56  (0.660583 --> 0.660244).  Saving model ...\n",
            "Validation loss decreased/improved for Env_model_5_17.14.56  (0.660244 --> 0.659929).  Saving model ...\n",
            "Validation loss decreased/improved for Env_model_5_17.14.56  (0.659929 --> 0.659619).  Saving model ...\n"
          ],
          "name": "stdout"
        },
        {
          "output_type": "stream",
          "text": [
            "\r 31%|███       | 17/55 [00:01<00:04,  9.41it/s]"
          ],
          "name": "stderr"
        },
        {
          "output_type": "stream",
          "text": [
            "Validation loss decreased/improved for Env_model_5_17.14.56  (0.659619 --> 0.659306).  Saving model ...\n",
            "Validation loss decreased/improved for Env_model_5_17.14.56  (0.659306 --> 0.658980).  Saving model ...\n",
            "Validation loss decreased/improved for Env_model_5_17.14.56  (0.658980 --> 0.658636).  Saving model ...\n"
          ],
          "name": "stdout"
        },
        {
          "output_type": "stream",
          "text": [
            " 38%|███▊      | 21/55 [00:02<00:02, 11.46it/s]"
          ],
          "name": "stderr"
        },
        {
          "output_type": "stream",
          "text": [
            "Validation loss decreased/improved for Env_model_5_17.14.56  (0.658636 --> 0.658274).  Saving model ...\n",
            "Validation loss decreased/improved for Env_model_5_17.14.56  (0.658274 --> 0.657890).  Saving model ...\n",
            "Validation loss decreased/improved for Env_model_5_17.14.56  (0.657890 --> 0.657486).  Saving model ...\n"
          ],
          "name": "stdout"
        },
        {
          "output_type": "stream",
          "text": [
            "\r 42%|████▏     | 23/55 [00:02<00:02, 12.21it/s]"
          ],
          "name": "stderr"
        },
        {
          "output_type": "stream",
          "text": [
            "Validation loss decreased/improved for Env_model_5_17.14.56  (0.657486 --> 0.657069).  Saving model ...\n",
            "Validation loss decreased/improved for Env_model_5_17.14.56  (0.657069 --> 0.656632).  Saving model ...\n",
            "Validation loss decreased/improved for Env_model_5_17.14.56  (0.656632 --> 0.656173).  Saving model ...\n"
          ],
          "name": "stdout"
        },
        {
          "output_type": "stream",
          "text": [
            " 49%|████▉     | 27/55 [00:02<00:02, 13.33it/s]"
          ],
          "name": "stderr"
        },
        {
          "output_type": "stream",
          "text": [
            "Validation loss decreased/improved for Env_model_5_17.14.56  (0.656173 --> 0.655686).  Saving model ...\n",
            "Validation loss decreased/improved for Env_model_5_17.14.56  (0.655686 --> 0.655185).  Saving model ...\n",
            "Validation loss decreased/improved for Env_model_5_17.14.56  (0.655185 --> 0.654676).  Saving model ...\n"
          ],
          "name": "stdout"
        },
        {
          "output_type": "stream",
          "text": [
            "\r 53%|█████▎    | 29/55 [00:02<00:01, 13.53it/s]"
          ],
          "name": "stderr"
        },
        {
          "output_type": "stream",
          "text": [
            "Validation loss decreased/improved for Env_model_5_17.14.56  (0.654676 --> 0.654150).  Saving model ...\n",
            "Validation loss decreased/improved for Env_model_5_17.14.56  (0.654150 --> 0.653630).  Saving model ...\n",
            "Validation loss decreased/improved for Env_model_5_17.14.56  (0.653630 --> 0.653111).  Saving model ...\n"
          ],
          "name": "stdout"
        },
        {
          "output_type": "stream",
          "text": [
            " 60%|██████    | 33/55 [00:02<00:01, 14.13it/s]"
          ],
          "name": "stderr"
        },
        {
          "output_type": "stream",
          "text": [
            "Validation loss decreased/improved for Env_model_5_17.14.56  (0.653111 --> 0.652590).  Saving model ...\n",
            "Validation loss decreased/improved for Env_model_5_17.14.56  (0.652590 --> 0.652071).  Saving model ...\n",
            "Validation loss decreased/improved for Env_model_5_17.14.56  (0.652071 --> 0.651551).  Saving model ...\n"
          ],
          "name": "stdout"
        },
        {
          "output_type": "stream",
          "text": [
            "\r 64%|██████▎   | 35/55 [00:03<00:01, 13.74it/s]"
          ],
          "name": "stderr"
        },
        {
          "output_type": "stream",
          "text": [
            "Validation loss decreased/improved for Env_model_5_17.14.56  (0.651551 --> 0.651032).  Saving model ...\n",
            "Validation loss decreased/improved for Env_model_5_17.14.56  (0.651032 --> 0.650517).  Saving model ...\n",
            "Validation loss decreased/improved for Env_model_5_17.14.56  (0.650517 --> 0.650007).  Saving model ...\n"
          ],
          "name": "stdout"
        },
        {
          "output_type": "stream",
          "text": [
            " 71%|███████   | 39/55 [00:03<00:01, 13.39it/s]"
          ],
          "name": "stderr"
        },
        {
          "output_type": "stream",
          "text": [
            "Validation loss decreased/improved for Env_model_5_17.14.56  (0.650007 --> 0.649529).  Saving model ...\n",
            "Validation loss decreased/improved for Env_model_5_17.14.56  (0.649529 --> 0.649083).  Saving model ...\n",
            "Validation loss decreased/improved for Env_model_5_17.14.56  (0.649083 --> 0.648665).  Saving model ...\n"
          ],
          "name": "stdout"
        },
        {
          "output_type": "stream",
          "text": [
            "\r 75%|███████▍  | 41/55 [00:03<00:01, 13.58it/s]"
          ],
          "name": "stderr"
        },
        {
          "output_type": "stream",
          "text": [
            "Validation loss decreased/improved for Env_model_5_17.14.56  (0.648665 --> 0.648284).  Saving model ...\n",
            "Validation loss decreased/improved for Env_model_5_17.14.56  (0.648284 --> 0.647937).  Saving model ...\n",
            "Validation loss decreased/improved for Env_model_5_17.14.56  (0.647937 --> 0.647605).  Saving model ...\n"
          ],
          "name": "stdout"
        },
        {
          "output_type": "stream",
          "text": [
            " 82%|████████▏ | 45/55 [00:03<00:00, 13.71it/s]"
          ],
          "name": "stderr"
        },
        {
          "output_type": "stream",
          "text": [
            "Validation loss decreased/improved for Env_model_5_17.14.56  (0.647605 --> 0.647282).  Saving model ...\n",
            "Validation loss decreased/improved for Env_model_5_17.14.56  (0.647282 --> 0.646967).  Saving model ...\n",
            "Validation loss decreased/improved for Env_model_5_17.14.56  (0.646967 --> 0.646660).  Saving model ...\n"
          ],
          "name": "stdout"
        },
        {
          "output_type": "stream",
          "text": [
            "\r 85%|████████▌ | 47/55 [00:03<00:00, 13.71it/s]"
          ],
          "name": "stderr"
        },
        {
          "output_type": "stream",
          "text": [
            "Validation loss decreased/improved for Env_model_5_17.14.56  (0.646660 --> 0.646376).  Saving model ...\n",
            "Validation loss decreased/improved for Env_model_5_17.14.56  (0.646376 --> 0.646111).  Saving model ...\n",
            "Validation loss decreased/improved for Env_model_5_17.14.56  (0.646111 --> 0.645865).  Saving model ...\n"
          ],
          "name": "stdout"
        },
        {
          "output_type": "stream",
          "text": [
            " 93%|█████████▎| 51/55 [00:04<00:00, 13.22it/s]"
          ],
          "name": "stderr"
        },
        {
          "output_type": "stream",
          "text": [
            "Validation loss decreased/improved for Env_model_5_17.14.56  (0.645865 --> 0.645639).  Saving model ...\n",
            "Validation loss decreased/improved for Env_model_5_17.14.56  (0.645639 --> 0.645432).  Saving model ...\n",
            "Validation loss decreased/improved for Env_model_5_17.14.56  (0.645432 --> 0.645244).  Saving model ...\n"
          ],
          "name": "stdout"
        },
        {
          "output_type": "stream",
          "text": [
            "\r 96%|█████████▋| 53/55 [00:04<00:00, 13.19it/s]"
          ],
          "name": "stderr"
        },
        {
          "output_type": "stream",
          "text": [
            "Validation loss decreased/improved for Env_model_5_17.14.56  (0.645244 --> 0.645071).  Saving model ...\n",
            "Validation loss decreased/improved for Env_model_5_17.14.56  (0.645071 --> 0.644914).  Saving model ...\n",
            "Validation loss decreased/improved for Env_model_5_17.14.56  (0.644914 --> 0.644765).  Saving model ...\n"
          ],
          "name": "stdout"
        },
        {
          "output_type": "stream",
          "text": [
            "100%|██████████| 55/55 [00:04<00:00, 11.96it/s]\n",
            "  4%|▎         | 2/55 [00:00<00:03, 13.47it/s]"
          ],
          "name": "stderr"
        },
        {
          "output_type": "stream",
          "text": [
            "Validation loss decreased/improved for Env_model_5_17.14.56  (0.644765 --> 0.644619).  Saving model ...\n",
            "Validation loss decreased/improved for Env_model_5_17.14.56  (0.644619 --> 0.644468).  Saving model ...\n",
            "Validation loss decreased/improved for Env_model_5_17.14.56  (0.644468 --> 0.644307).  Saving model ...\n"
          ],
          "name": "stdout"
        },
        {
          "output_type": "stream",
          "text": [
            "\r  7%|▋         | 4/55 [00:00<00:03, 13.42it/s]"
          ],
          "name": "stderr"
        },
        {
          "output_type": "stream",
          "text": [
            "Validation loss decreased/improved for Env_model_5_17.14.56  (0.644307 --> 0.644141).  Saving model ...\n",
            "Validation loss decreased/improved for Env_model_5_17.14.56  (0.644141 --> 0.643970).  Saving model ...\n",
            "Validation loss decreased/improved for Env_model_5_17.14.56  (0.643970 --> 0.643796).  Saving model ...\n"
          ],
          "name": "stdout"
        },
        {
          "output_type": "stream",
          "text": [
            " 15%|█▍        | 8/55 [00:00<00:03, 13.17it/s]"
          ],
          "name": "stderr"
        },
        {
          "output_type": "stream",
          "text": [
            "Validation loss decreased/improved for Env_model_5_17.14.56  (0.643796 --> 0.643619).  Saving model ...\n",
            "Validation loss decreased/improved for Env_model_5_17.14.56  (0.643619 --> 0.643443).  Saving model ...\n",
            "Validation loss decreased/improved for Env_model_5_17.14.56  (0.643443 --> 0.643268).  Saving model ...\n"
          ],
          "name": "stdout"
        },
        {
          "output_type": "stream",
          "text": [
            "\r 18%|█▊        | 10/55 [00:00<00:03, 13.17it/s]"
          ],
          "name": "stderr"
        },
        {
          "output_type": "stream",
          "text": [
            "Validation loss decreased/improved for Env_model_5_17.14.56  (0.643268 --> 0.643103).  Saving model ...\n",
            "Validation loss decreased/improved for Env_model_5_17.14.56  (0.643103 --> 0.642948).  Saving model ...\n",
            "Validation loss decreased/improved for Env_model_5_17.14.56  (0.642948 --> 0.642800).  Saving model ...\n"
          ],
          "name": "stdout"
        },
        {
          "output_type": "stream",
          "text": [
            " 25%|██▌       | 14/55 [00:01<00:03, 13.14it/s]"
          ],
          "name": "stderr"
        },
        {
          "output_type": "stream",
          "text": [
            "Validation loss decreased/improved for Env_model_5_17.14.56  (0.642800 --> 0.642663).  Saving model ...\n",
            "Validation loss decreased/improved for Env_model_5_17.14.56  (0.642663 --> 0.642535).  Saving model ...\n",
            "Validation loss decreased/improved for Env_model_5_17.14.56  (0.642535 --> 0.642417).  Saving model ...\n"
          ],
          "name": "stdout"
        },
        {
          "output_type": "stream",
          "text": [
            "\r 29%|██▉       | 16/55 [00:01<00:02, 13.17it/s]"
          ],
          "name": "stderr"
        },
        {
          "output_type": "stream",
          "text": [
            "Validation loss decreased/improved for Env_model_5_17.14.56  (0.642417 --> 0.642307).  Saving model ...\n",
            "Validation loss decreased/improved for Env_model_5_17.14.56  (0.642307 --> 0.642197).  Saving model ...\n",
            "Validation loss decreased/improved for Env_model_5_17.14.56  (0.642197 --> 0.642087).  Saving model ...\n"
          ],
          "name": "stdout"
        },
        {
          "output_type": "stream",
          "text": [
            " 36%|███▋      | 20/55 [00:01<00:02, 13.20it/s]"
          ],
          "name": "stderr"
        },
        {
          "output_type": "stream",
          "text": [
            "Validation loss decreased/improved for Env_model_5_17.14.56  (0.642087 --> 0.641977).  Saving model ...\n",
            "Validation loss decreased/improved for Env_model_5_17.14.56  (0.641977 --> 0.641872).  Saving model ...\n",
            "Validation loss decreased/improved for Env_model_5_17.14.56  (0.641872 --> 0.641784).  Saving model ...\n"
          ],
          "name": "stdout"
        },
        {
          "output_type": "stream",
          "text": [
            "\r 40%|████      | 22/55 [00:01<00:02, 13.18it/s]"
          ],
          "name": "stderr"
        },
        {
          "output_type": "stream",
          "text": [
            "Validation loss decreased/improved for Env_model_5_17.14.56  (0.641784 --> 0.641708).  Saving model ...\n",
            "Validation loss decreased/improved for Env_model_5_17.14.56  (0.641708 --> 0.641636).  Saving model ...\n",
            "Validation loss decreased/improved for Env_model_5_17.14.56  (0.641636 --> 0.641570).  Saving model ...\n"
          ],
          "name": "stdout"
        },
        {
          "output_type": "stream",
          "text": [
            " 47%|████▋     | 26/55 [00:01<00:02, 13.19it/s]"
          ],
          "name": "stderr"
        },
        {
          "output_type": "stream",
          "text": [
            "Validation loss decreased/improved for Env_model_5_17.14.56  (0.641570 --> 0.641508).  Saving model ...\n",
            "Validation loss decreased/improved for Env_model_5_17.14.56  (0.641508 --> 0.641451).  Saving model ...\n",
            "Validation loss decreased/improved for Env_model_5_17.14.56  (0.641451 --> 0.641400).  Saving model ...\n"
          ],
          "name": "stdout"
        },
        {
          "output_type": "stream",
          "text": [
            "\r 51%|█████     | 28/55 [00:02<00:02, 13.16it/s]"
          ],
          "name": "stderr"
        },
        {
          "output_type": "stream",
          "text": [
            "Validation loss decreased/improved for Env_model_5_17.14.56  (0.641400 --> 0.641352).  Saving model ...\n",
            "Validation loss decreased/improved for Env_model_5_17.14.56  (0.641352 --> 0.641305).  Saving model ...\n",
            "Validation loss decreased/improved for Env_model_5_17.14.56  (0.641305 --> 0.641263).  Saving model ...\n"
          ],
          "name": "stdout"
        },
        {
          "output_type": "stream",
          "text": [
            " 58%|█████▊    | 32/55 [00:02<00:01, 13.02it/s]"
          ],
          "name": "stderr"
        },
        {
          "output_type": "stream",
          "text": [
            "Validation loss decreased/improved for Env_model_5_17.14.56  (0.641263 --> 0.641233).  Saving model ...\n",
            "Validation loss decreased/improved for Env_model_5_17.14.56  (0.641233 --> 0.641206).  Saving model ...\n",
            "Validation loss decreased/improved for Env_model_5_17.14.56  (0.641206 --> 0.641192).  Saving model ...\n"
          ],
          "name": "stdout"
        },
        {
          "output_type": "stream",
          "text": [
            "\r 62%|██████▏   | 34/55 [00:02<00:01, 13.17it/s]"
          ],
          "name": "stderr"
        },
        {
          "output_type": "stream",
          "text": [
            "EarlyStopping for Env_model_5_17.14.56 counter: 1 out of 7\n",
            "EarlyStopping for Env_model_5_17.14.56 counter: 2 out of 7\n",
            "EarlyStopping for Env_model_5_17.14.56 counter: 3 out of 7\n"
          ],
          "name": "stdout"
        },
        {
          "output_type": "stream",
          "text": [
            " 69%|██████▉   | 38/55 [00:02<00:01, 13.75it/s]"
          ],
          "name": "stderr"
        },
        {
          "output_type": "stream",
          "text": [
            "EarlyStopping for Env_model_5_17.14.56 counter: 4 out of 7\n",
            "EarlyStopping for Env_model_5_17.14.56 counter: 5 out of 7\n",
            "EarlyStopping for Env_model_5_17.14.56 counter: 6 out of 7\n"
          ],
          "name": "stdout"
        },
        {
          "output_type": "stream",
          "text": [
            "\r 69%|██████▉   | 38/55 [00:02<00:01, 12.93it/s]\n"
          ],
          "name": "stderr"
        },
        {
          "output_type": "stream",
          "text": [
            "EarlyStopping for Env_model_5_17.14.56 counter: 7 out of 7\n",
            "Env_model_5_17.14.56 has stopped\n",
            "Early stopping\n",
            "Early stopping\n"
          ],
          "name": "stdout"
        }
      ]
    },
    {
      "cell_type": "markdown",
      "metadata": {
        "id": "JAUkTxYs7a0N",
        "colab_type": "text"
      },
      "source": [
        "Reward model training"
      ]
    },
    {
      "cell_type": "code",
      "metadata": {
        "id": "m9ZlTpnR7HaS",
        "colab_type": "code",
        "outputId": "a4e1dfc1-8205-4592-f80c-b69860d69bc4",
        "colab": {
          "base_uri": "https://localhost:8080/",
          "height": 470
        }
      },
      "source": [
        "rew_model = NNRewardModel(n_actions + feature_size, reward_dim).to(device) # Nawid - Need to put both actions as it is a one-hot vector\n",
        "rew_optimizer = torch.optim.Adam(rew_model.parameters(),REW_LEARNING_RATE) # Nawid - Optimizer for the env model\n",
        "wandb.watch(rew_model, log=\"all\")\n",
        "Rew_model_name = 'Rew_model'+ '_' + date_time\n",
        "early_stopping_rew = EarlyStopping_loss(patience=7, verbose=True, wandb=wandb, name=Rew_model_name)\n",
        "\n",
        "for n_iter in range(AGGR_ITER):\n",
        "    if early_stopping_rew.early_stop:\n",
        "        print('Early stopping')\n",
        "        break\n",
        "    train_model(norm_rew_train_data, norm_rew_val_data, rew_model, BATCH_SIZE, TRAIN_ITER_MODEL,rew_optimizer,device,early_stopping_rew,desired_model='Rew_model')\n",
        "\n",
        "\n",
        "    "
      ],
      "execution_count": 0,
      "outputs": [
        {
          "output_type": "stream",
          "text": [
            "  2%|▏         | 1/55 [00:16<14:33, 16.17s/it]"
          ],
          "name": "stderr"
        },
        {
          "output_type": "stream",
          "text": [
            "Validation loss decreased/improved for Rew_model_4_19.8.50  (100000000000.000000 --> 0.020023).  Saving model ...\n"
          ],
          "name": "stdout"
        },
        {
          "output_type": "stream",
          "text": [
            "\r  4%|▎         | 2/55 [00:31<14:02, 15.89s/it]"
          ],
          "name": "stderr"
        },
        {
          "output_type": "stream",
          "text": [
            "Validation loss decreased/improved for Rew_model_4_19.8.50  (0.020023 --> 0.011873).  Saving model ...\n"
          ],
          "name": "stdout"
        },
        {
          "output_type": "stream",
          "text": [
            "\r  5%|▌         | 3/55 [00:46<13:32, 15.62s/it]"
          ],
          "name": "stderr"
        },
        {
          "output_type": "stream",
          "text": [
            "Validation loss decreased/improved for Rew_model_4_19.8.50  (0.011873 --> 0.011708).  Saving model ...\n"
          ],
          "name": "stdout"
        },
        {
          "output_type": "stream",
          "text": [
            "\r  7%|▋         | 4/55 [01:01<13:05, 15.40s/it]"
          ],
          "name": "stderr"
        },
        {
          "output_type": "stream",
          "text": [
            "Validation loss decreased/improved for Rew_model_4_19.8.50  (0.011708 --> 0.011604).  Saving model ...\n"
          ],
          "name": "stdout"
        },
        {
          "output_type": "stream",
          "text": [
            "\r  9%|▉         | 5/55 [01:17<13:04, 15.69s/it]"
          ],
          "name": "stderr"
        },
        {
          "output_type": "stream",
          "text": [
            "Validation loss decreased/improved for Rew_model_4_19.8.50  (0.011604 --> 0.011513).  Saving model ...\n"
          ],
          "name": "stdout"
        },
        {
          "output_type": "stream",
          "text": [
            "\r 11%|█         | 6/55 [01:32<12:38, 15.49s/it]"
          ],
          "name": "stderr"
        },
        {
          "output_type": "stream",
          "text": [
            "Validation loss decreased/improved for Rew_model_4_19.8.50  (0.011513 --> 0.011444).  Saving model ...\n"
          ],
          "name": "stdout"
        },
        {
          "output_type": "stream",
          "text": [
            "\r 13%|█▎        | 7/55 [01:47<12:17, 15.36s/it]"
          ],
          "name": "stderr"
        },
        {
          "output_type": "stream",
          "text": [
            "Validation loss decreased/improved for Rew_model_4_19.8.50  (0.011444 --> 0.011378).  Saving model ...\n"
          ],
          "name": "stdout"
        },
        {
          "output_type": "stream",
          "text": [
            "\r 15%|█▍        | 8/55 [02:02<11:55, 15.23s/it]"
          ],
          "name": "stderr"
        },
        {
          "output_type": "stream",
          "text": [
            "Validation loss decreased/improved for Rew_model_4_19.8.50  (0.011378 --> 0.011330).  Saving model ...\n"
          ],
          "name": "stdout"
        },
        {
          "output_type": "stream",
          "text": [
            "\r 16%|█▋        | 9/55 [02:17<11:35, 15.13s/it]"
          ],
          "name": "stderr"
        },
        {
          "output_type": "stream",
          "text": [
            "Validation loss decreased/improved for Rew_model_4_19.8.50  (0.011330 --> 0.011288).  Saving model ...\n"
          ],
          "name": "stdout"
        },
        {
          "output_type": "stream",
          "text": [
            "\r 18%|█▊        | 10/55 [02:32<11:17, 15.05s/it]"
          ],
          "name": "stderr"
        },
        {
          "output_type": "stream",
          "text": [
            "Validation loss decreased/improved for Rew_model_4_19.8.50  (0.011288 --> 0.011258).  Saving model ...\n"
          ],
          "name": "stdout"
        },
        {
          "output_type": "stream",
          "text": [
            "\r 20%|██        | 11/55 [02:47<10:57, 14.94s/it]"
          ],
          "name": "stderr"
        },
        {
          "output_type": "stream",
          "text": [
            "Validation loss decreased/improved for Rew_model_4_19.8.50  (0.011258 --> 0.011223).  Saving model ...\n"
          ],
          "name": "stdout"
        },
        {
          "output_type": "stream",
          "text": [
            "\r 22%|██▏       | 12/55 [03:01<10:40, 14.90s/it]"
          ],
          "name": "stderr"
        },
        {
          "output_type": "stream",
          "text": [
            "Validation loss decreased/improved for Rew_model_4_19.8.50  (0.011223 --> 0.011186).  Saving model ...\n"
          ],
          "name": "stdout"
        },
        {
          "output_type": "stream",
          "text": [
            "\r 24%|██▎       | 13/55 [03:16<10:26, 14.93s/it]"
          ],
          "name": "stderr"
        },
        {
          "output_type": "stream",
          "text": [
            "Validation loss decreased/improved for Rew_model_4_19.8.50  (0.011186 --> 0.011173).  Saving model ...\n"
          ],
          "name": "stdout"
        },
        {
          "output_type": "stream",
          "text": [
            "\r 25%|██▌       | 14/55 [03:32<10:17, 15.05s/it]"
          ],
          "name": "stderr"
        },
        {
          "output_type": "stream",
          "text": [
            "Validation loss decreased/improved for Rew_model_4_19.8.50  (0.011173 --> 0.011156).  Saving model ...\n"
          ],
          "name": "stdout"
        },
        {
          "output_type": "stream",
          "text": [
            "\r 27%|██▋       | 15/55 [03:47<09:58, 14.97s/it]"
          ],
          "name": "stderr"
        },
        {
          "output_type": "stream",
          "text": [
            "Validation loss decreased/improved for Rew_model_4_19.8.50  (0.011156 --> 0.011146).  Saving model ...\n"
          ],
          "name": "stdout"
        },
        {
          "output_type": "stream",
          "text": [
            "\r 29%|██▉       | 16/55 [04:01<09:38, 14.85s/it]"
          ],
          "name": "stderr"
        },
        {
          "output_type": "stream",
          "text": [
            "Validation loss decreased/improved for Rew_model_4_19.8.50  (0.011146 --> 0.011140).  Saving model ...\n"
          ],
          "name": "stdout"
        },
        {
          "output_type": "stream",
          "text": [
            "\r 31%|███       | 17/55 [04:16<09:21, 14.76s/it]"
          ],
          "name": "stderr"
        },
        {
          "output_type": "stream",
          "text": [
            "Validation loss decreased/improved for Rew_model_4_19.8.50  (0.011140 --> 0.011134).  Saving model ...\n"
          ],
          "name": "stdout"
        },
        {
          "output_type": "stream",
          "text": [
            "\r 33%|███▎      | 18/55 [04:31<09:09, 14.84s/it]"
          ],
          "name": "stderr"
        },
        {
          "output_type": "stream",
          "text": [
            "EarlyStopping for Rew_model_4_19.8.50 counter: 1 out of 7\n"
          ],
          "name": "stdout"
        },
        {
          "output_type": "stream",
          "text": [
            "\r 35%|███▍      | 19/55 [04:46<08:55, 14.87s/it]"
          ],
          "name": "stderr"
        },
        {
          "output_type": "stream",
          "text": [
            "EarlyStopping for Rew_model_4_19.8.50 counter: 2 out of 7\n"
          ],
          "name": "stdout"
        },
        {
          "output_type": "stream",
          "text": [
            "\r 36%|███▋      | 20/55 [05:00<08:39, 14.84s/it]"
          ],
          "name": "stderr"
        },
        {
          "output_type": "stream",
          "text": [
            "EarlyStopping for Rew_model_4_19.8.50 counter: 3 out of 7\n"
          ],
          "name": "stdout"
        },
        {
          "output_type": "stream",
          "text": [
            "\r 38%|███▊      | 21/55 [05:15<08:23, 14.80s/it]"
          ],
          "name": "stderr"
        },
        {
          "output_type": "stream",
          "text": [
            "EarlyStopping for Rew_model_4_19.8.50 counter: 4 out of 7\n"
          ],
          "name": "stdout"
        },
        {
          "output_type": "stream",
          "text": [
            "\r 40%|████      | 22/55 [05:30<08:07, 14.77s/it]"
          ],
          "name": "stderr"
        },
        {
          "output_type": "stream",
          "text": [
            "EarlyStopping for Rew_model_4_19.8.50 counter: 5 out of 7\n"
          ],
          "name": "stdout"
        },
        {
          "output_type": "stream",
          "text": [
            "\r 42%|████▏     | 23/55 [05:44<07:52, 14.75s/it]"
          ],
          "name": "stderr"
        },
        {
          "output_type": "stream",
          "text": [
            "EarlyStopping for Rew_model_4_19.8.50 counter: 6 out of 7\n",
            "EarlyStopping for Rew_model_4_19.8.50 counter: 7 out of 7\n",
            "Rew_model_4_19.8.50 has stopped\n",
            "Early stopping\n",
            "Early stopping\n"
          ],
          "name": "stdout"
        }
      ]
    },
    {
      "cell_type": "markdown",
      "metadata": {
        "id": "LTOm9XOX7kOL",
        "colab_type": "text"
      },
      "source": [
        "# Training the reward function and MPC"
      ]
    },
    {
      "cell_type": "code",
      "metadata": {
        "id": "ZX9DeBR47Lpo",
        "colab_type": "code",
        "colab": {
          "base_uri": "https://localhost:8080/",
          "height": 1000
        },
        "outputId": "bba1a373-5493-44d5-bdcd-c201e7d95f62"
      },
      "source": [
        "rew_model = NNRewardModel(n_actions + feature_size, reward_dim).to(device) # Nawid - Need to put both actions as it is a one-hot vector\n",
        "rew_optimizer = torch.optim.Adam(rew_model.parameters(),REW_LEARNING_RATE) # Nawid - Optimizer for the env model\n",
        "wandb.watch(rew_model, log=\"all\")\n",
        "Rew_model_name = 'Rew_model'+ '_' + date_time\n",
        "early_stopping_rew = EarlyStopping_loss(patience=7, verbose=True, wandb=wandb, name=Rew_model_name)\n",
        "\n",
        "#env = AtariARIWrapper(gym.make(ENV_NAME))  # Instantiate environment\n",
        "Controller = multi_model_based_control(ENV_NAME,env_model, rew_model, NUM_ACTIONS_SEQUENCES, HORIZON_LENGTH, n_actions, norm)\n",
        "\n",
        "for n_iter in range(AGGR_ITER):\n",
        "    if early_stopping_rew.early_stop:\n",
        "        print('Early stopping')\n",
        "        break    \n",
        "    train_model(norm_rew_train_data, norm_rew_val_data, rew_model, BATCH_SIZE, TRAIN_ITER_MODEL,rew_optimizer,device,early_stopping_rew,desired_model='Rew_model')\n",
        "\n",
        "    obs = Controller.env.reset()\n",
        "    #obs = env.reset()\n",
        "    #initial_info_labels = env.labels()\n",
        "\n",
        "    num_examples_added = 0\n",
        "    game_reward = 0\n",
        "    controller_pred_rews = []\n",
        "    rews = []\n",
        "    i = 0 \n",
        "    while num_examples_added < STEPS_PER_AGGR:\n",
        "        while True:\n",
        "            tt = time.time()\n",
        "            \n",
        "            if Controller.repeated_initial:\n",
        "                i += 1\n",
        "                print(i)\n",
        "                obs,_,_,info = Controller.env.step(0) # Any action taken\n",
        "                info_labels = info['labels']\n",
        "                # Checks if the initial set is being repeated and if it isnt, it sets the value off\n",
        "                Controller.check_initial(info_labels) \n",
        "            else:\n",
        "                # new state achieved\n",
        "                state = Controller.state_conversion(obs,info_labels)\n",
        "                action, pred_rew = Controller.random_sampling_shooting(state)\n",
        "                action_one_hot = one_hot(action)\n",
        "                controller_pred_rews.append(pred_rew)\n",
        "\n",
        "                # one step in the environment with the action returned by\n",
        "                next_obs, reward,done, next_info = Controller.env.step(action)\n",
        "                next_info_labels = next_info['labels']\n",
        "                \n",
        "                next_state = Controller.state_conversion(next_obs, next_info_labels)\n",
        "                # Obtains the reward, done and sets whether repeated initial should be true or not\n",
        "                reward, pacman_done = Controller.reward_conversion(reward,done,info_labels, next_info_labels) \n",
        "\n",
        "                # add to the RL dataset\n",
        "                rl_dataset.append([state, next_state, reward, pacman_done, action_one_hot])\n",
        "                num_examples_added += 1\n",
        "                \n",
        "                obs = next_obs\n",
        "                info_labels = next_info_labels\n",
        "\n",
        "                game_reward += reward \n",
        "                if done:\n",
        "                    obs = Controller.env.reset()\n",
        "                    print('  >> R: {:.2f}, Mean sum:{:.2f}, {}'.format(game_reward, np.mean(controller_pred_rews), num_examples_added))\n",
        "\n",
        "                    rews.append(game_reward)\n",
        "                    game_reward = 0\n",
        "                    controller_pred_rews = []\n",
        "                    break\n",
        "\n",
        "    print('  >> Mean: {:.2f}', np.mean(rews))    "
      ],
      "execution_count": 31,
      "outputs": [
        {
          "output_type": "stream",
          "text": [
            "  5%|▌         | 3/55 [00:00<00:26,  1.97it/s]"
          ],
          "name": "stderr"
        },
        {
          "output_type": "stream",
          "text": [
            "Validation loss decreased/improved for Rew_model_5_17.14.56  (100000000000.000000 --> 0.740351).  Saving model ...\n",
            "Validation loss decreased/improved for Rew_model_5_17.14.56  (0.740351 --> 0.706320).  Saving model ...\n",
            "Validation loss decreased/improved for Rew_model_5_17.14.56  (0.706320 --> 0.664157).  Saving model ...\n"
          ],
          "name": "stdout"
        },
        {
          "output_type": "stream",
          "text": [
            "\r  9%|▉         | 5/55 [00:00<00:18,  2.65it/s]"
          ],
          "name": "stderr"
        },
        {
          "output_type": "stream",
          "text": [
            "Validation loss decreased/improved for Rew_model_5_17.14.56  (0.664157 --> 0.620620).  Saving model ...\n",
            "Validation loss decreased/improved for Rew_model_5_17.14.56  (0.620620 --> 0.577853).  Saving model ...\n",
            "Validation loss decreased/improved for Rew_model_5_17.14.56  (0.577853 --> 0.536675).  Saving model ...\n"
          ],
          "name": "stdout"
        },
        {
          "output_type": "stream",
          "text": [
            " 16%|█▋        | 9/55 [00:01<00:10,  4.45it/s]"
          ],
          "name": "stderr"
        },
        {
          "output_type": "stream",
          "text": [
            "Validation loss decreased/improved for Rew_model_5_17.14.56  (0.536675 --> 0.497238).  Saving model ...\n",
            "Validation loss decreased/improved for Rew_model_5_17.14.56  (0.497238 --> 0.459638).  Saving model ...\n",
            "Validation loss decreased/improved for Rew_model_5_17.14.56  (0.459638 --> 0.424067).  Saving model ...\n"
          ],
          "name": "stdout"
        },
        {
          "output_type": "stream",
          "text": [
            "\r 20%|██        | 11/55 [00:01<00:07,  5.56it/s]"
          ],
          "name": "stderr"
        },
        {
          "output_type": "stream",
          "text": [
            "Validation loss decreased/improved for Rew_model_5_17.14.56  (0.424067 --> 0.390537).  Saving model ...\n",
            "Validation loss decreased/improved for Rew_model_5_17.14.56  (0.390537 --> 0.359068).  Saving model ...\n",
            "Validation loss decreased/improved for Rew_model_5_17.14.56  (0.359068 --> 0.329673).  Saving model ...\n"
          ],
          "name": "stdout"
        },
        {
          "output_type": "stream",
          "text": [
            " 27%|██▋       | 15/55 [00:01<00:05,  7.86it/s]"
          ],
          "name": "stderr"
        },
        {
          "output_type": "stream",
          "text": [
            "Validation loss decreased/improved for Rew_model_5_17.14.56  (0.329673 --> 0.302336).  Saving model ...\n",
            "Validation loss decreased/improved for Rew_model_5_17.14.56  (0.302336 --> 0.277011).  Saving model ...\n",
            "Validation loss decreased/improved for Rew_model_5_17.14.56  (0.277011 --> 0.253667).  Saving model ...\n"
          ],
          "name": "stdout"
        },
        {
          "output_type": "stream",
          "text": [
            "\r 31%|███       | 17/55 [00:01<00:04,  8.94it/s]"
          ],
          "name": "stderr"
        },
        {
          "output_type": "stream",
          "text": [
            "Validation loss decreased/improved for Rew_model_5_17.14.56  (0.253667 --> 0.232219).  Saving model ...\n",
            "Validation loss decreased/improved for Rew_model_5_17.14.56  (0.232219 --> 0.212556).  Saving model ...\n",
            "Validation loss decreased/improved for Rew_model_5_17.14.56  (0.212556 --> 0.194594).  Saving model ...\n"
          ],
          "name": "stdout"
        },
        {
          "output_type": "stream",
          "text": [
            " 38%|███▊      | 21/55 [00:02<00:03, 10.66it/s]"
          ],
          "name": "stderr"
        },
        {
          "output_type": "stream",
          "text": [
            "Validation loss decreased/improved for Rew_model_5_17.14.56  (0.194594 --> 0.178283).  Saving model ...\n",
            "Validation loss decreased/improved for Rew_model_5_17.14.56  (0.178283 --> 0.163538).  Saving model ...\n",
            "Validation loss decreased/improved for Rew_model_5_17.14.56  (0.163538 --> 0.150251).  Saving model ...\n"
          ],
          "name": "stdout"
        },
        {
          "output_type": "stream",
          "text": [
            "\r 42%|████▏     | 23/55 [00:02<00:02, 11.35it/s]"
          ],
          "name": "stderr"
        },
        {
          "output_type": "stream",
          "text": [
            "Validation loss decreased/improved for Rew_model_5_17.14.56  (0.150251 --> 0.138303).  Saving model ...\n",
            "Validation loss decreased/improved for Rew_model_5_17.14.56  (0.138303 --> 0.127574).  Saving model ...\n",
            "Validation loss decreased/improved for Rew_model_5_17.14.56  (0.127574 --> 0.117939).  Saving model ...\n"
          ],
          "name": "stdout"
        },
        {
          "output_type": "stream",
          "text": [
            " 49%|████▉     | 27/55 [00:02<00:02, 12.12it/s]"
          ],
          "name": "stderr"
        },
        {
          "output_type": "stream",
          "text": [
            "Validation loss decreased/improved for Rew_model_5_17.14.56  (0.117939 --> 0.109288).  Saving model ...\n",
            "Validation loss decreased/improved for Rew_model_5_17.14.56  (0.109288 --> 0.101518).  Saving model ...\n",
            "Validation loss decreased/improved for Rew_model_5_17.14.56  (0.101518 --> 0.094544).  Saving model ...\n"
          ],
          "name": "stdout"
        },
        {
          "output_type": "stream",
          "text": [
            "\r 53%|█████▎    | 29/55 [00:02<00:02, 12.46it/s]"
          ],
          "name": "stderr"
        },
        {
          "output_type": "stream",
          "text": [
            "Validation loss decreased/improved for Rew_model_5_17.14.56  (0.094544 --> 0.088274).  Saving model ...\n",
            "Validation loss decreased/improved for Rew_model_5_17.14.56  (0.088274 --> 0.082634).  Saving model ...\n",
            "Validation loss decreased/improved for Rew_model_5_17.14.56  (0.082634 --> 0.077557).  Saving model ...\n"
          ],
          "name": "stdout"
        },
        {
          "output_type": "stream",
          "text": [
            " 60%|██████    | 33/55 [00:03<00:01, 12.59it/s]"
          ],
          "name": "stderr"
        },
        {
          "output_type": "stream",
          "text": [
            "Validation loss decreased/improved for Rew_model_5_17.14.56  (0.077557 --> 0.072977).  Saving model ...\n",
            "Validation loss decreased/improved for Rew_model_5_17.14.56  (0.072977 --> 0.068842).  Saving model ...\n",
            "Validation loss decreased/improved for Rew_model_5_17.14.56  (0.068842 --> 0.065107).  Saving model ...\n"
          ],
          "name": "stdout"
        },
        {
          "output_type": "stream",
          "text": [
            "\r 64%|██████▎   | 35/55 [00:03<00:01, 12.28it/s]"
          ],
          "name": "stderr"
        },
        {
          "output_type": "stream",
          "text": [
            "Validation loss decreased/improved for Rew_model_5_17.14.56  (0.065107 --> 0.061728).  Saving model ...\n",
            "Validation loss decreased/improved for Rew_model_5_17.14.56  (0.061728 --> 0.058665).  Saving model ...\n",
            "Validation loss decreased/improved for Rew_model_5_17.14.56  (0.058665 --> 0.055886).  Saving model ...\n"
          ],
          "name": "stdout"
        },
        {
          "output_type": "stream",
          "text": [
            " 71%|███████   | 39/55 [00:03<00:01, 12.49it/s]"
          ],
          "name": "stderr"
        },
        {
          "output_type": "stream",
          "text": [
            "Validation loss decreased/improved for Rew_model_5_17.14.56  (0.055886 --> 0.053359).  Saving model ...\n",
            "Validation loss decreased/improved for Rew_model_5_17.14.56  (0.053359 --> 0.051057).  Saving model ...\n",
            "Validation loss decreased/improved for Rew_model_5_17.14.56  (0.051057 --> 0.048957).  Saving model ...\n"
          ],
          "name": "stdout"
        },
        {
          "output_type": "stream",
          "text": [
            "\r 75%|███████▍  | 41/55 [00:03<00:01, 12.52it/s]"
          ],
          "name": "stderr"
        },
        {
          "output_type": "stream",
          "text": [
            "Validation loss decreased/improved for Rew_model_5_17.14.56  (0.048957 --> 0.047037).  Saving model ...\n",
            "Validation loss decreased/improved for Rew_model_5_17.14.56  (0.047037 --> 0.045280).  Saving model ...\n",
            "Validation loss decreased/improved for Rew_model_5_17.14.56  (0.045280 --> 0.043669).  Saving model ...\n"
          ],
          "name": "stdout"
        },
        {
          "output_type": "stream",
          "text": [
            " 82%|████████▏ | 45/55 [00:04<00:00, 12.78it/s]"
          ],
          "name": "stderr"
        },
        {
          "output_type": "stream",
          "text": [
            "Validation loss decreased/improved for Rew_model_5_17.14.56  (0.043669 --> 0.042190).  Saving model ...\n",
            "Validation loss decreased/improved for Rew_model_5_17.14.56  (0.042190 --> 0.040829).  Saving model ...\n",
            "Validation loss decreased/improved for Rew_model_5_17.14.56  (0.040829 --> 0.039576).  Saving model ...\n"
          ],
          "name": "stdout"
        },
        {
          "output_type": "stream",
          "text": [
            "\r 85%|████████▌ | 47/55 [00:04<00:00, 12.86it/s]"
          ],
          "name": "stderr"
        },
        {
          "output_type": "stream",
          "text": [
            "Validation loss decreased/improved for Rew_model_5_17.14.56  (0.039576 --> 0.038420).  Saving model ...\n",
            "Validation loss decreased/improved for Rew_model_5_17.14.56  (0.038420 --> 0.037352).  Saving model ...\n",
            "Validation loss decreased/improved for Rew_model_5_17.14.56  (0.037352 --> 0.036363).  Saving model ...\n"
          ],
          "name": "stdout"
        },
        {
          "output_type": "stream",
          "text": [
            " 93%|█████████▎| 51/55 [00:04<00:00, 12.37it/s]"
          ],
          "name": "stderr"
        },
        {
          "output_type": "stream",
          "text": [
            "Validation loss decreased/improved for Rew_model_5_17.14.56  (0.036363 --> 0.035447).  Saving model ...\n",
            "Validation loss decreased/improved for Rew_model_5_17.14.56  (0.035447 --> 0.034598).  Saving model ...\n",
            "Validation loss decreased/improved for Rew_model_5_17.14.56  (0.034598 --> 0.033809).  Saving model ...\n"
          ],
          "name": "stdout"
        },
        {
          "output_type": "stream",
          "text": [
            "\r 96%|█████████▋| 53/55 [00:04<00:00, 12.22it/s]"
          ],
          "name": "stderr"
        },
        {
          "output_type": "stream",
          "text": [
            "Validation loss decreased/improved for Rew_model_5_17.14.56  (0.033809 --> 0.033075).  Saving model ...\n",
            "Validation loss decreased/improved for Rew_model_5_17.14.56  (0.033075 --> 0.032391).  Saving model ...\n",
            "Validation loss decreased/improved for Rew_model_5_17.14.56  (0.032391 --> 0.031754).  Saving model ...\n"
          ],
          "name": "stdout"
        },
        {
          "output_type": "stream",
          "text": [
            "100%|██████████| 55/55 [00:04<00:00, 11.19it/s]\n"
          ],
          "name": "stderr"
        },
        {
          "output_type": "stream",
          "text": [
            "Validation loss decreased/improved for Rew_model_5_17.14.56  (0.031754 --> 0.031160).  Saving model ...\n",
            "1\n",
            "2\n",
            "3\n",
            "4\n",
            "5\n",
            "6\n",
            "7\n",
            "8\n",
            "9\n",
            "10\n",
            "11\n",
            "12\n",
            "13\n",
            "14\n",
            "15\n",
            "16\n",
            "17\n",
            "18\n",
            "19\n",
            "20\n",
            "21\n",
            "22\n",
            "23\n",
            "24\n",
            "25\n",
            "26\n",
            "27\n",
            "28\n",
            "29\n",
            "30\n",
            "31\n",
            "32\n",
            "33\n",
            "34\n",
            "35\n",
            "36\n",
            "37\n",
            "38\n",
            "39\n",
            "40\n",
            "41\n",
            "42\n",
            "43\n",
            "44\n",
            "45\n",
            "46\n",
            "47\n",
            "48\n",
            "49\n",
            "50\n",
            "51\n",
            "52\n",
            "53\n",
            "54\n",
            "55\n",
            "56\n",
            "57\n",
            "58\n",
            "59\n",
            "60\n",
            "61\n",
            "62\n",
            "63\n",
            "64\n",
            "65\n",
            "66\n",
            "67\n",
            "68\n",
            "69\n",
            "70\n",
            "71\n",
            "72\n",
            "73\n",
            "74\n",
            "75\n",
            "76\n",
            "77\n",
            "78\n",
            "79\n",
            "80\n",
            "81\n",
            "82\n",
            "83\n",
            "84\n",
            "85\n",
            "86\n",
            "87\n",
            "88\n",
            "89\n",
            "90\n",
            "91\n",
            "92\n",
            "93\n",
            "94\n",
            "95\n",
            "96\n",
            "97\n",
            "98\n",
            "99\n",
            "100\n",
            "101\n",
            "102\n",
            "103\n",
            "104\n",
            "105\n",
            "106\n",
            "107\n",
            "108\n",
            "109\n",
            "110\n",
            "111\n",
            "112\n",
            "113\n",
            "114\n",
            "115\n",
            "116\n",
            "117\n",
            "118\n",
            "119\n",
            "120\n",
            "121\n",
            "122\n",
            "123\n",
            "124\n",
            "125\n",
            "126\n",
            "127\n",
            "128\n",
            "129\n",
            "130\n",
            "131\n",
            "132\n",
            "133\n",
            "134\n",
            "135\n",
            "136\n",
            "137\n",
            "138\n",
            "139\n",
            "140\n",
            "141\n",
            "142\n",
            "143\n",
            "144\n",
            "145\n",
            "146\n",
            "147\n",
            "148\n",
            "149\n",
            "150\n",
            "151\n",
            "152\n",
            "153\n",
            "154\n",
            "155\n",
            "156\n",
            "157\n",
            "158\n",
            "159\n",
            "160\n",
            "161\n",
            "162\n",
            "163\n",
            "164\n",
            "165\n",
            "166\n",
            "167\n",
            "168\n",
            "169\n",
            "170\n",
            "171\n",
            "172\n",
            "173\n",
            "174\n",
            "175\n",
            "176\n",
            "177\n",
            "178\n",
            "179\n",
            "180\n",
            "181\n",
            "182\n",
            "183\n",
            "184\n",
            "185\n",
            "186\n",
            "187\n",
            "188\n",
            "189\n",
            "190\n",
            "191\n",
            "192\n",
            "193\n",
            "194\n",
            "195\n",
            "196\n",
            "197\n",
            "198\n",
            "199\n",
            "200\n",
            "201\n",
            "202\n",
            "203\n",
            "204\n",
            "205\n",
            "206\n",
            "207\n",
            "208\n",
            "209\n",
            "210\n",
            "211\n",
            "212\n",
            "213\n",
            "214\n",
            "215\n",
            "216\n",
            "217\n",
            "218\n",
            "219\n",
            "220\n",
            "221\n",
            "222\n",
            "223\n",
            "224\n",
            "225\n",
            "226\n",
            "227\n",
            "228\n",
            "229\n",
            "230\n",
            "231\n",
            "232\n",
            "233\n",
            "234\n",
            "235\n",
            "236\n",
            "237\n",
            "238\n",
            "239\n",
            "240\n",
            "241\n",
            "242\n",
            "243\n",
            "244\n",
            "245\n",
            "246\n",
            "247\n",
            "248\n",
            "249\n",
            "250\n",
            "251\n",
            "252\n",
            "253\n",
            "254\n",
            "255\n",
            "256\n",
            "257\n",
            "258\n",
            "259\n",
            "260\n",
            "261\n",
            "262\n",
            "263\n",
            "264\n",
            "265\n",
            "266\n",
            "267\n",
            "268\n",
            "269\n",
            "270\n",
            "271\n",
            "272\n",
            "273\n",
            "274\n",
            "275\n",
            "276\n",
            "277\n",
            "278\n",
            "279\n",
            "280\n",
            "281\n",
            "282\n",
            "283\n",
            "284\n",
            "285\n",
            "286\n",
            "287\n",
            "288\n",
            "289\n",
            "290\n",
            "291\n",
            "292\n",
            "293\n",
            "294\n",
            "295\n",
            "296\n",
            "297\n",
            "298\n",
            "299\n",
            "300\n",
            "301\n",
            "302\n",
            "303\n",
            "304\n",
            "305\n",
            "306\n",
            "307\n",
            "308\n",
            "309\n",
            "310\n",
            "311\n",
            "312\n",
            "313\n",
            "314\n",
            "315\n",
            "316\n",
            "317\n",
            "318\n",
            "319\n",
            "320\n",
            "321\n",
            "322\n",
            "323\n",
            "324\n",
            "325\n",
            "326\n",
            "327\n",
            "328\n",
            "329\n",
            "330\n",
            "331\n",
            "332\n",
            "333\n",
            "334\n",
            "335\n",
            "336\n",
            "337\n",
            "338\n",
            "339\n",
            "340\n",
            "341\n",
            "342\n",
            "343\n",
            "344\n",
            "345\n",
            "346\n",
            "347\n",
            "348\n",
            "349\n",
            "350\n",
            "351\n",
            "352\n",
            "353\n",
            "354\n",
            "355\n",
            "356\n",
            "357\n",
            "358\n",
            "359\n",
            "360\n",
            "361\n",
            "362\n",
            "363\n",
            "364\n",
            "365\n",
            "366\n",
            "367\n",
            "368\n",
            "369\n",
            "370\n",
            "371\n",
            "372\n",
            "373\n",
            "374\n",
            "375\n",
            "376\n",
            "377\n",
            "378\n",
            "379\n",
            "380\n",
            "381\n",
            "382\n",
            "383\n",
            "384\n",
            "385\n",
            "386\n",
            "387\n",
            "388\n",
            "389\n",
            "390\n",
            "391\n",
            "392\n",
            "393\n",
            "394\n",
            "395\n",
            "396\n",
            "397\n",
            "398\n",
            "399\n",
            "400\n",
            "401\n",
            "402\n",
            "403\n",
            "404\n",
            "405\n",
            "406\n",
            "407\n",
            "408\n",
            "409\n",
            "410\n",
            "411\n",
            "412\n",
            "413\n",
            "414\n",
            "415\n",
            "416\n",
            "417\n",
            "418\n",
            "419\n",
            "420\n",
            "421\n",
            "422\n",
            "423\n",
            "424\n",
            "425\n",
            "426\n",
            "427\n",
            "428\n",
            "429\n",
            "430\n",
            "431\n",
            "432\n",
            "433\n",
            "434\n",
            "435\n",
            "436\n",
            "437\n",
            "438\n",
            "439\n",
            "440\n",
            "441\n",
            "442\n",
            "443\n",
            "444\n",
            "445\n",
            "446\n",
            "447\n",
            "448\n",
            "449\n",
            "450\n",
            "451\n",
            "452\n",
            "453\n",
            "454\n",
            "455\n",
            "456\n",
            "457\n",
            "458\n",
            "459\n",
            "460\n",
            "461\n",
            "462\n",
            "463\n",
            "464\n",
            "465\n",
            "466\n",
            "467\n",
            "468\n",
            "469\n",
            "470\n",
            "471\n",
            "472\n",
            "473\n",
            "474\n",
            "475\n",
            "476\n",
            "477\n",
            "478\n",
            "479\n",
            "480\n",
            "481\n",
            "482\n",
            "483\n",
            "484\n",
            "485\n",
            "486\n",
            "487\n",
            "488\n",
            "489\n",
            "490\n",
            "491\n",
            "492\n",
            "493\n",
            "494\n",
            "495\n",
            "496\n",
            "497\n",
            "498\n",
            "499\n",
            "500\n",
            "501\n",
            "502\n",
            "503\n"
          ],
          "name": "stdout"
        },
        {
          "output_type": "stream",
          "text": [
            "  4%|▎         | 2/55 [00:00<00:04, 11.78it/s]"
          ],
          "name": "stderr"
        },
        {
          "output_type": "stream",
          "text": [
            "  >> R: 150.00, Mean sum:4.98, 1354\n",
            "  >> Mean: {:.2f} 150.0\n",
            "EarlyStopping for Rew_model_5_17.14.56 counter: 1 out of 7\n",
            "EarlyStopping for Rew_model_5_17.14.56 counter: 2 out of 7\n"
          ],
          "name": "stdout"
        },
        {
          "output_type": "stream",
          "text": [
            "\r  7%|▋         | 4/55 [00:00<00:04, 12.16it/s]"
          ],
          "name": "stderr"
        },
        {
          "output_type": "stream",
          "text": [
            "EarlyStopping for Rew_model_5_17.14.56 counter: 3 out of 7\n",
            "EarlyStopping for Rew_model_5_17.14.56 counter: 4 out of 7\n",
            "EarlyStopping for Rew_model_5_17.14.56 counter: 5 out of 7\n"
          ],
          "name": "stdout"
        },
        {
          "output_type": "stream",
          "text": [
            " 11%|█         | 6/55 [00:00<00:04, 10.95it/s]"
          ],
          "name": "stderr"
        },
        {
          "output_type": "stream",
          "text": [
            "EarlyStopping for Rew_model_5_17.14.56 counter: 6 out of 7\n",
            "EarlyStopping for Rew_model_5_17.14.56 counter: 7 out of 7\n",
            "Rew_model_5_17.14.56 has stopped\n",
            "Early stopping\n",
            "1\n",
            "2\n",
            "3\n",
            "4\n",
            "5\n",
            "6\n",
            "7\n",
            "8\n",
            "9\n",
            "10\n",
            "11\n",
            "12\n",
            "13\n",
            "14\n",
            "15\n",
            "16\n",
            "17\n",
            "18\n",
            "19\n",
            "20\n",
            "21\n",
            "22\n",
            "23\n",
            "24\n",
            "25\n",
            "26\n",
            "27\n",
            "28\n",
            "29\n",
            "30\n",
            "31\n",
            "32\n",
            "33\n",
            "34\n",
            "35\n",
            "36\n",
            "37\n",
            "38\n",
            "39\n",
            "40\n",
            "41\n",
            "42\n",
            "43\n",
            "44\n",
            "45\n",
            "46\n",
            "47\n",
            "48\n",
            "49\n",
            "50\n",
            "51\n",
            "52\n",
            "53\n",
            "54\n",
            "55\n",
            "56\n",
            "57\n",
            "58\n",
            "59\n",
            "60\n",
            "61\n",
            "62\n",
            "63\n",
            "64\n",
            "65\n",
            "66\n",
            "67\n",
            "68\n",
            "69\n",
            "70\n",
            "71\n",
            "72\n",
            "73\n",
            "74\n",
            "75\n",
            "76\n",
            "77\n",
            "78\n",
            "79\n",
            "80\n",
            "81\n",
            "82\n",
            "83\n",
            "84\n",
            "85\n",
            "86\n",
            "87\n",
            "88\n",
            "89\n",
            "90\n",
            "91\n",
            "92\n",
            "93\n",
            "94\n",
            "95\n",
            "96\n",
            "97\n",
            "98\n",
            "99\n",
            "100\n",
            "101\n",
            "102\n",
            "103\n",
            "104\n",
            "105\n",
            "106\n",
            "107\n",
            "108\n",
            "109\n",
            "110\n",
            "111\n",
            "112\n",
            "113\n",
            "114\n",
            "115\n",
            "116\n",
            "117\n",
            "118\n",
            "119\n",
            "120\n",
            "121\n",
            "122\n",
            "123\n",
            "124\n",
            "125\n",
            "126\n",
            "127\n",
            "128\n",
            "129\n",
            "130\n",
            "131\n",
            "132\n",
            "133\n",
            "134\n",
            "135\n",
            "136\n",
            "137\n",
            "138\n",
            "139\n",
            "140\n",
            "141\n",
            "142\n",
            "143\n",
            "144\n",
            "145\n",
            "146\n",
            "147\n",
            "148\n",
            "149\n",
            "150\n",
            "151\n",
            "152\n",
            "153\n",
            "154\n",
            "155\n",
            "156\n",
            "157\n",
            "158\n",
            "159\n",
            "160\n",
            "161\n",
            "162\n",
            "163\n",
            "164\n",
            "165\n",
            "166\n",
            "167\n",
            "168\n",
            "169\n",
            "170\n"
          ],
          "name": "stdout"
        },
        {
          "output_type": "stream",
          "text": [
            "\n"
          ],
          "name": "stderr"
        },
        {
          "output_type": "stream",
          "text": [
            "171\n",
            "172\n",
            "173\n",
            "174\n",
            "175\n",
            "176\n",
            "177\n",
            "178\n",
            "179\n",
            "180\n",
            "181\n",
            "182\n",
            "183\n",
            "184\n",
            "185\n",
            "186\n",
            "187\n",
            "188\n",
            "189\n",
            "190\n",
            "191\n",
            "192\n",
            "193\n",
            "194\n",
            "195\n",
            "196\n",
            "197\n",
            "198\n",
            "199\n",
            "200\n",
            "201\n",
            "202\n",
            "203\n",
            "204\n",
            "205\n",
            "206\n",
            "207\n",
            "208\n",
            "209\n",
            "210\n",
            "211\n",
            "212\n",
            "213\n",
            "214\n",
            "215\n",
            "216\n",
            "217\n",
            "218\n",
            "219\n",
            "220\n",
            "221\n",
            "222\n",
            "223\n",
            "224\n",
            "225\n",
            "226\n",
            "227\n",
            "228\n",
            "229\n",
            "230\n",
            "231\n",
            "232\n",
            "233\n",
            "234\n",
            "235\n",
            "236\n",
            "237\n",
            "238\n",
            "239\n",
            "240\n",
            "241\n",
            "242\n",
            "243\n",
            "244\n",
            "245\n",
            "246\n",
            "247\n",
            "248\n",
            "249\n",
            "250\n",
            "251\n",
            "252\n",
            "253\n",
            "254\n",
            "255\n",
            "256\n",
            "257\n",
            "258\n",
            "259\n",
            "260\n",
            "261\n",
            "262\n",
            "263\n",
            "264\n",
            "265\n",
            "266\n",
            "267\n",
            "268\n",
            "269\n",
            "270\n",
            "271\n",
            "272\n",
            "273\n",
            "274\n",
            "275\n",
            "276\n",
            "277\n",
            "278\n",
            "279\n",
            "280\n",
            "281\n",
            "282\n",
            "283\n",
            "284\n",
            "285\n",
            "286\n",
            "287\n",
            "288\n",
            "289\n",
            "290\n",
            "291\n",
            "292\n",
            "293\n",
            "294\n",
            "295\n",
            "296\n",
            "297\n",
            "298\n",
            "299\n",
            "300\n",
            "301\n",
            "302\n",
            "303\n",
            "304\n",
            "305\n",
            "306\n",
            "307\n",
            "308\n",
            "309\n",
            "310\n",
            "311\n",
            "312\n",
            "313\n",
            "314\n",
            "315\n",
            "316\n",
            "317\n",
            "318\n",
            "319\n",
            "320\n",
            "321\n",
            "322\n",
            "323\n",
            "324\n",
            "325\n",
            "326\n",
            "327\n",
            "328\n",
            "329\n",
            "330\n",
            "331\n",
            "332\n",
            "333\n",
            "334\n",
            "335\n",
            "336\n",
            "337\n",
            "338\n",
            "339\n",
            "340\n",
            "341\n",
            "342\n",
            "343\n",
            "344\n",
            "345\n",
            "346\n",
            "347\n",
            "348\n",
            "349\n",
            "350\n",
            "351\n",
            "352\n",
            "353\n",
            "354\n",
            "355\n",
            "356\n",
            "357\n",
            "358\n",
            "359\n",
            "360\n",
            "361\n",
            "362\n",
            "363\n",
            "364\n",
            "365\n",
            "366\n",
            "367\n",
            "368\n",
            "369\n",
            "370\n",
            "371\n",
            "372\n",
            "373\n",
            "374\n",
            "375\n",
            "376\n",
            "377\n",
            "378\n",
            "379\n",
            "380\n",
            "381\n",
            "382\n",
            "383\n",
            "384\n",
            "385\n",
            "386\n",
            "387\n",
            "388\n",
            "389\n",
            "390\n",
            "391\n",
            "392\n",
            "393\n",
            "394\n",
            "395\n",
            "396\n",
            "397\n",
            "398\n",
            "399\n",
            "400\n",
            "401\n",
            "402\n",
            "403\n",
            "404\n",
            "405\n",
            "406\n",
            "407\n",
            "408\n",
            "409\n",
            "410\n",
            "411\n",
            "412\n",
            "413\n",
            "414\n",
            "415\n",
            "416\n",
            "417\n",
            "418\n",
            "419\n",
            "420\n",
            "421\n",
            "422\n",
            "423\n",
            "424\n",
            "425\n",
            "426\n",
            "427\n",
            "428\n",
            "429\n",
            "430\n",
            "431\n",
            "432\n",
            "433\n",
            "434\n",
            "435\n",
            "436\n",
            "437\n",
            "438\n",
            "439\n",
            "440\n",
            "441\n",
            "442\n",
            "443\n",
            "444\n",
            "445\n",
            "446\n",
            "447\n",
            "448\n",
            "449\n",
            "450\n",
            "451\n",
            "452\n",
            "453\n",
            "454\n",
            "455\n",
            "456\n",
            "457\n",
            "458\n",
            "459\n",
            "460\n",
            "461\n",
            "462\n",
            "463\n",
            "464\n",
            "465\n",
            "466\n",
            "467\n",
            "468\n",
            "469\n",
            "470\n",
            "471\n",
            "472\n",
            "473\n",
            "474\n",
            "475\n",
            "476\n",
            "477\n",
            "478\n",
            "479\n",
            "480\n",
            "481\n",
            "482\n",
            "483\n",
            "484\n",
            "485\n",
            "486\n",
            "487\n",
            "488\n",
            "489\n",
            "490\n",
            "491\n",
            "492\n",
            "493\n",
            "494\n",
            "495\n",
            "496\n",
            "497\n",
            "498\n",
            "499\n",
            "500\n",
            "501\n",
            "502\n",
            "  >> R: 320.00, Mean sum:4.98, 1963\n",
            "  >> Mean: {:.2f} 320.0\n",
            "Early stopping\n"
          ],
          "name": "stdout"
        }
      ]
    },
    {
      "cell_type": "markdown",
      "metadata": {
        "id": "PpGt1rdvsLFT",
        "colab_type": "text"
      },
      "source": [
        "# OLD CODE"
      ]
    },
    {
      "cell_type": "code",
      "metadata": {
        "id": "xqE-9CLYK6jF",
        "colab_type": "code",
        "outputId": "e1201452-eabb-4faf-9408-b915bd48d326",
        "colab": {
          "base_uri": "https://localhost:8080/",
          "height": 205
        }
      },
      "source": [
        "# gather the dataset of random sequences\n",
        "\n",
        "encoder = NatureCNN(observation_channels,all_defaults)\n",
        "encoder.load_state_dict(torch.load('/content/MsPacmanNoFrameskip-v4_55.pt'))\n",
        "encoder.to(device)\n",
        "encoder.eval()\n",
        "rand_dataset = gather_random_trajectories(10000,'MsPacmanNoFrameskip-v4',encoder)\n",
        "rl_dataset = []\n",
        "num_examples_added = len(rand_dataset)\n",
        "env_train_data, env_val_data, rew_train_data, rew_val_data = collate_data(rand_dataset,rl_dataset,num_examples_added)\n",
        "norm_env_train_data, norm_env_val_data, norm_rew_train_data, norm_rew_val_data, X_env_state_scaler, y_env_scaler, X_rew_state_scaler = normalise_dataset(env_train_data, env_val_data, rew_train_data, rew_val_data)\n",
        "norm = (X_env_state_scaler, y_env_scaler, X_rew_state_scaler)\n",
        "\n",
        "env_model = NNDynamicsModel(n_actions + feature_size, feature_size).to(device) # Nawid - Need to put both actions as it is a one-hot vector\n",
        "env_optimizer = torch.optim.Adam(env_model.parameters(),ENV_LEARNING_RATE) # Nawid - Optimizer for the env model\n",
        "wandb.watch(env_model, log=\"all\")\n",
        "env_model_name = 'Env_model'+ '_' + date_time\n",
        "early_stopping_env = EarlyStopping(patience=5, verbose=True, wandb=wandb, name=env_model_name)\n",
        "\n",
        "for n_iter in range(AGGR_ITER):\n",
        "    if early_stopping_env.early_stop:\n",
        "        print('Early stopping')\n",
        "        break\n",
        "    train_model(norm_env_train_data, norm_env_val_data, env_model, BATCH_SIZE, TRAIN_ITER_MODEL,env_optimizer,device,early_stopping_env)"
      ],
      "execution_count": 0,
      "outputs": [
        {
          "output_type": "stream",
          "text": [
            "  4%|▎         | 2/55 [00:00<00:18,  2.91it/s]"
          ],
          "name": "stderr"
        },
        {
          "output_type": "stream",
          "text": [
            "Validation accuracy increased for Env_model_27_13.53.44  (0.000000 --> 1.118334).  Saving model ...\n",
            "EarlyStopping for Env_model_27_13.53.44 counter: 1 out of 5\n"
          ],
          "name": "stdout"
        },
        {
          "output_type": "stream",
          "text": [
            "  7%|▋         | 4/55 [00:00<00:11,  4.37it/s]"
          ],
          "name": "stderr"
        },
        {
          "output_type": "stream",
          "text": [
            "EarlyStopping for Env_model_27_13.53.44 counter: 2 out of 5\n",
            "EarlyStopping for Env_model_27_13.53.44 counter: 3 out of 5\n"
          ],
          "name": "stdout"
        },
        {
          "output_type": "stream",
          "text": [
            "  9%|▉         | 5/55 [00:01<00:10,  4.69it/s]"
          ],
          "name": "stderr"
        },
        {
          "output_type": "stream",
          "text": [
            "EarlyStopping for Env_model_27_13.53.44 counter: 4 out of 5\n",
            "EarlyStopping for Env_model_27_13.53.44 counter: 5 out of 5\n",
            "Env_model_27_13.53.44 has stopped\n",
            "Early stopping\n",
            "Early stopping\n"
          ],
          "name": "stdout"
        },
        {
          "output_type": "stream",
          "text": [
            "\n"
          ],
          "name": "stderr"
        }
      ]
    },
    {
      "cell_type": "code",
      "metadata": {
        "id": "nGXOh2oVWT8n",
        "colab_type": "code",
        "colab": {}
      },
      "source": [
        "def gather_random_trajectories(num_traj,ENV_NAME,mode = 'ATARIARI', encoder = None):\n",
        "    '''\n",
        "    states_list = []\n",
        "    next_states_list = []\n",
        "    rewards_list = []\n",
        "    dones_list = []\n",
        "    actions_list = []\n",
        "    '''\n",
        "    dataset_random = []\n",
        "    #Env name could either be the RAM case or the generic case\n",
        "    env = AtariARIWrapper(gym.make(ENV_NAME)) \n",
        "\n",
        "    for n in range(num_traj):\n",
        "        obs = env.reset()\n",
        "        repeated_initial = True # Nawid- Used to represent the initial state\n",
        "        initial_info_labels = env.labels()\n",
        "        info_labels = env.labels() # Nawid -  Used to get the current state\n",
        "        while True:\n",
        "            sampled_action = np.random.randint(0,n_actions)\n",
        "            sampled_action_one_hot = one_hot(sampled_action)\n",
        "            next_obs, reward, done, next_info = env.step(sampled_action)\n",
        "            next_info_labels = next_info['labels']\n",
        "\n",
        "            if repeated_initial: # If the initial state is repeating\n",
        "                if initial_info_labels == next_info_labels: # Current state is still the same as the initial state\n",
        "                    pass\n",
        "                else:\n",
        "                    repeated_initial = False\n",
        "                    \n",
        "                    state, next_state = state_collection(obs, next_obs,info_labels, next_info_labels)\n",
        "                    reward, done = reward_collection(reward, done, info_labels, next_info_labels)\n",
        "                    dataset_random.append([state, next_state,reward,done,sampled_action_one_hot])\n",
        "                    \n",
        "                    obs = next_obs\n",
        "                    info_labels = next_info_labels\n",
        "\n",
        "                    # Go into a new state and from the previous state and the current state as this is a transition between the states\n",
        "\n",
        "            else:\n",
        "                # Save data as this is when the initial state and the next state are not identical\n",
        "                state, next_state = state_collection(obs, next_obs,info_labels, next_info_labels)\n",
        "                reward, done = reward_collection(reward, done, info_labels, next_info_labels)\n",
        "                dataset_random.append([state, next_state,reward,done,sampled_action_one_hot])\n",
        "                \n",
        "                obs = next_obs\n",
        "                info_labels = next_info_labels\n",
        "\n",
        "                if not initial_info_labels['num_lives'] == info_labels['num_lives']: # Nawid - If there is a change in the number of lives -  The change in the number of lives occurs after the mspacman is resurrected\n",
        "                    print('change in lives')\n",
        "                    repeated_initial = True\n",
        "\n"
      ],
      "execution_count": 0,
      "outputs": []
    },
    {
      "cell_type": "code",
      "metadata": {
        "id": "QWnL4S9xsedw",
        "colab_type": "code",
        "colab": {}
      },
      "source": [
        "def state_collection(obs, next_obs, info_labels, next_info_labels,mode='ATARIARI', encoder = None):\n",
        "    if mode == 'ATARIARI':\n",
        "        state = []\n",
        "        next_state = []\n",
        "        i = 0 \n",
        "        for key in info_labels :\n",
        "            if i < 14: # Nawid - Only the first 14 info are crucial I believe\n",
        "                state.append(info_labels[key])\n",
        "                next_state.append(info_labels[key])\n",
        "                i +=1\n",
        "            else:\n",
        "                state = np.array(state)\n",
        "                next_state = np.array(next_state)\n",
        "                return state, next_state\n",
        "    \n",
        "    elif mode == 'STDIM': # Encoding is the state\n",
        "        assert encoder is not None\n",
        "        with torch.no_grad():\n",
        "            encoder.eval()\n",
        "            states = encoder(obs.float().to(device) / 255)\n",
        "            next_states = encoder(next_obs.float().to(device) / 255)\n",
        "            return states, next_states\n",
        "\n",
        "    else: # Image observations are the state or the RAM labels\n",
        "        return obs, next_obs\n",
        "\n",
        "'''\n",
        "env = AtariARIWrapper(gym.make('MsPacmanNoFrameskip-v4')) \n",
        "info_labels = env.labels()\n",
        "#print(info_labels)\n",
        "state = []\n",
        "print(info_labels)\n",
        "for key in info_labels:\n",
        "    state.append(info_labels[key])\n",
        "\n",
        "state = np.array(state)\n",
        "compact_state = state[0:14]\n",
        "print(compact_state)\n",
        "'''"
      ],
      "execution_count": 0,
      "outputs": []
    },
    {
      "cell_type": "code",
      "metadata": {
        "id": "xGP9vBlbnMQ9",
        "colab_type": "code",
        "outputId": "78040184-3d95-4815-c719-e05061a4bc2c",
        "colab": {
          "base_uri": "https://localhost:8080/",
          "height": 1000
        }
      },
      "source": [
        "# Instantiate reward model\n",
        "env = gym.make('MsPacmanNoFrameskip-v4')\n",
        "encoder = ImpalaCNN(observation_channels,all_defaults)\n",
        "encoder.load_state_dict(torch.load('/content/MsPacmanNoFrameskip-v4_95.pt'))\n",
        "encoder.to(device)\n",
        "encoder.eval()\n",
        "\n",
        "rew_model = NNRewardModel(n_actions + feature_size,reward_dim).to(device)\n",
        "rew_optimizer = torch.optim.Adam(rew_model.parameters(), REW_LEARNING_RATE)\n",
        "wandb.watch(rew_model, log=\"all\")\n",
        "desired_model = 'Reward_model'\n",
        "model_name = desired_model +'_'+ date_time\n",
        "early_stopping_rew = EarlyStopping(patience=7, verbose=True, wandb=wandb, name=model_name)\n",
        "\n",
        "game_reward = 0\n",
        "rand_dataset = gather_random_trajectories(10000,'MsPacmanNoFrameskip-v4',encoder)\n",
        "print('Does it work past here')\n",
        "rl_dataset = []\n",
        "num_examples_added = len(rand_dataset)\n",
        "\n",
        "env_train_data, env_val_data, rew_train_data, rew_val_data = collate_data(rand_dataset, rl_dataset, num_examples_added)\n",
        "norm_env_train_data, norm_env_val_data, norm_rew_train_data, norm_rew_val_data, X_env_state_scaler, y_env_scaler, X_rew_state_scaler = normalise_dataset(env_train_data, env_val_data, rew_train_data, rew_val_data)\n",
        "print('Is data normalised?')\n",
        "#env_train_data, env_val_data, rew_train_data, rew_val_data = collate_data(rand_dataset,rl_dataset,num_examples_added)\n",
        "\n",
        "for n_iter in range(AGGR_ITER):\n",
        "    if early_stopping_reward.early_stop:\n",
        "        print('Early stopping')\n",
        "        break\n",
        "    #norm_env_train_data, norm_env_val_data, norm_rew_train_data, norm_rew_val_data, X_env_state_scaler, y_env_scaler, X_rew_state_scaler = normalise_dataset(env_train_data, env_val_data, rew_train_data, rew_val_data, X_env_state_scaler, y_env_scaler, X_rew_state_scaler)\n",
        "    print('Does the model train')\n",
        "    train_model(norm_rew_train_data, norm_rew_val_data, rew_model, BATCH_SIZE, TRAIN_ITER_MODEL,rew_optimizer,device,early_stopping_rew)"
      ],
      "execution_count": 0,
      "outputs": [
        {
          "output_type": "stream",
          "text": [
            "\r  0%|          | 0/55 [00:00<?, ?it/s]"
          ],
          "name": "stderr"
        },
        {
          "output_type": "stream",
          "text": [
            "rewards list (10000, 1)\n",
            "dones list (10000, 1)\n",
            "Does it work past here\n",
            "Is data normalised?\n",
            "Does the model train\n"
          ],
          "name": "stdout"
        },
        {
          "output_type": "stream",
          "text": [
            "  5%|▌         | 3/55 [00:00<00:29,  1.78it/s]"
          ],
          "name": "stderr"
        },
        {
          "output_type": "stream",
          "text": [
            "Validation accuracy increased for Reward_model_2_9.26.46  (0.000000 --> 0.230905).  Saving model ...\n",
            "EarlyStopping for Reward_model_2_9.26.46 counter: 1 out of 7\n",
            "EarlyStopping for Reward_model_2_9.26.46 counter: 2 out of 7\n"
          ],
          "name": "stdout"
        },
        {
          "output_type": "stream",
          "text": [
            "\r  9%|▉         | 5/55 [00:01<00:21,  2.37it/s]"
          ],
          "name": "stderr"
        },
        {
          "output_type": "stream",
          "text": [
            "EarlyStopping for Reward_model_2_9.26.46 counter: 3 out of 7\n",
            "EarlyStopping for Reward_model_2_9.26.46 counter: 4 out of 7\n",
            "EarlyStopping for Reward_model_2_9.26.46 counter: 5 out of 7\n"
          ],
          "name": "stdout"
        },
        {
          "output_type": "stream",
          "text": [
            " 13%|█▎        | 7/55 [00:01<00:09,  4.91it/s]\n",
            "  0%|          | 0/55 [00:00<?, ?it/s]\n",
            "  0%|          | 0/55 [00:00<?, ?it/s]"
          ],
          "name": "stderr"
        },
        {
          "output_type": "stream",
          "text": [
            "EarlyStopping for Reward_model_2_9.26.46 counter: 6 out of 7\n",
            "EarlyStopping for Reward_model_2_9.26.46 counter: 7 out of 7\n",
            "Reward_model_2_9.26.46 has stopped\n",
            "Early stopping\n",
            "Does the model train\n",
            "EarlyStopping for Reward_model_2_9.26.46 counter: 8 out of 7\n",
            "Reward_model_2_9.26.46 has stopped\n",
            "Early stopping\n",
            "Does the model train\n"
          ],
          "name": "stdout"
        },
        {
          "output_type": "stream",
          "text": [
            "  0%|          | 0/55 [00:00<?, ?it/s]\n",
            "  0%|          | 0/55 [00:00<?, ?it/s]\n",
            "  0%|          | 0/55 [00:00<?, ?it/s]"
          ],
          "name": "stderr"
        },
        {
          "output_type": "stream",
          "text": [
            "EarlyStopping for Reward_model_2_9.26.46 counter: 9 out of 7\n",
            "Reward_model_2_9.26.46 has stopped\n",
            "Early stopping\n",
            "Does the model train\n",
            "EarlyStopping for Reward_model_2_9.26.46 counter: 10 out of 7\n",
            "Reward_model_2_9.26.46 has stopped\n",
            "Early stopping\n",
            "Does the model train\n"
          ],
          "name": "stdout"
        },
        {
          "output_type": "stream",
          "text": [
            "  0%|          | 0/55 [00:00<?, ?it/s]\n",
            "  0%|          | 0/55 [00:00<?, ?it/s]\n",
            "  0%|          | 0/55 [00:00<?, ?it/s]"
          ],
          "name": "stderr"
        },
        {
          "output_type": "stream",
          "text": [
            "EarlyStopping for Reward_model_2_9.26.46 counter: 11 out of 7\n",
            "Reward_model_2_9.26.46 has stopped\n",
            "Early stopping\n",
            "Does the model train\n",
            "EarlyStopping for Reward_model_2_9.26.46 counter: 12 out of 7\n",
            "Reward_model_2_9.26.46 has stopped\n",
            "Early stopping\n",
            "Does the model train\n"
          ],
          "name": "stdout"
        },
        {
          "output_type": "stream",
          "text": [
            "  0%|          | 0/55 [00:00<?, ?it/s]\n",
            "  0%|          | 0/55 [00:00<?, ?it/s]\n",
            "  0%|          | 0/55 [00:00<?, ?it/s]"
          ],
          "name": "stderr"
        },
        {
          "output_type": "stream",
          "text": [
            "EarlyStopping for Reward_model_2_9.26.46 counter: 13 out of 7\n",
            "Reward_model_2_9.26.46 has stopped\n",
            "Early stopping\n",
            "Does the model train\n",
            "EarlyStopping for Reward_model_2_9.26.46 counter: 14 out of 7\n",
            "Reward_model_2_9.26.46 has stopped\n",
            "Early stopping\n",
            "Does the model train\n"
          ],
          "name": "stdout"
        },
        {
          "output_type": "stream",
          "text": [
            "  0%|          | 0/55 [00:00<?, ?it/s]\n",
            "  0%|          | 0/55 [00:00<?, ?it/s]"
          ],
          "name": "stderr"
        },
        {
          "output_type": "stream",
          "text": [
            "EarlyStopping for Reward_model_2_9.26.46 counter: 15 out of 7\n",
            "Reward_model_2_9.26.46 has stopped\n",
            "Early stopping\n",
            "Does the model train\n",
            "EarlyStopping for Reward_model_2_9.26.46 counter: 16 out of 7\n",
            "Reward_model_2_9.26.46 has stopped\n",
            "Early stopping\n"
          ],
          "name": "stdout"
        },
        {
          "output_type": "stream",
          "text": [
            "\n"
          ],
          "name": "stderr"
        }
      ]
    },
    {
      "cell_type": "code",
      "metadata": {
        "id": "yadzOFSrhEWP",
        "colab_type": "code",
        "colab": {}
      },
      "source": [
        "# gather the dataset of random sequences\n",
        "\n",
        "encoder = NatureCNN(observation_channels,all_defaults)\n",
        "encoder.load_state_dict(torch.load('/content/MsPacmanNoFrameskip-v4_55.pt'))\n",
        "encoder.to(device)\n",
        "encoder.eval()\n",
        "rand_dataset = gather_random_trajectories(10000,'MsPacmanNoFrameskip-v4',encoder)\n",
        "rl_dataset = []\n",
        "num_examples_added = len(rand_dataset)\n",
        "env_train_data, env_val_data, rew_train_data, rew_val_data = collate_data(rand_dataset,rl_dataset,num_examples_added)\n",
        "norm_env_train_data, norm_env_val_data, norm_rew_train_data, norm_rew_val_data, X_env_state_scaler, y_env_scaler, X_rew_state_scaler = normalise_dataset(env_train_data, env_val_data, rew_train_data, rew_val_data)\n",
        "norm = (X_env_state_scaler, y_env_scaler, X_rew_state_scaler)\n",
        "\n",
        "env_model = NNDynamicsModel(n_actions + feature_size, feature_size).to(device) # Nawid - Need to put both actions as it is a one-hot vector\n",
        "env_optimizer = torch.optim.Adam(env_model.parameters(),ENV_LEARNING_RATE) # Nawid - Optimizer for the env model\n",
        "wandb.watch(env_model, log=\"all\")\n",
        "env_model_name = 'Env_model'+ '_' + date_time\n",
        "early_stopping_env = EarlyStopping(patience=5, verbose=True, wandb=wandb, name=env_model_name)\n",
        "\n",
        "for n_iter in range(AGGR_ITER):\n",
        "    if early_stopping_env.early_stop:\n",
        "        print('Early stopping')\n",
        "        break\n",
        "    train_model(norm_env_train_data, norm_env_val_data, env_model, BATCH_SIZE, TRAIN_ITER_MODEL,env_optimizer,device,early_stopping_env)"
      ],
      "execution_count": 0,
      "outputs": []
    }
  ]
}